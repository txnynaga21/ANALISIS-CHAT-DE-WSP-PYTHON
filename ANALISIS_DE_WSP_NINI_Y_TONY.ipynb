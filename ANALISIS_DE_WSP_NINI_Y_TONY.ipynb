{
  "cells": [
    {
      "cell_type": "code",
      "execution_count": 1,
      "metadata": {
        "colab": {
          "base_uri": "https://localhost:8080/"
        },
        "id": "6GlmAYlIr3cq",
        "outputId": "87770d28-5f69-4e14-9e43-3423fb7709e4"
      },
      "outputs": [
        {
          "name": "stdout",
          "output_type": "stream",
          "text": [
            "Requirement already satisfied: regex in c:\\python\\python312\\lib\\site-packages (2024.4.28)\n"
          ]
        },
        {
          "name": "stderr",
          "output_type": "stream",
          "text": [
            "\n",
            "[notice] A new release of pip is available: 24.0 -> 24.2\n",
            "[notice] To update, run: python.exe -m pip install --upgrade pip\n"
          ]
        },
        {
          "name": "stdout",
          "output_type": "stream",
          "text": [
            "Requirement already satisfied: demoji in c:\\python\\python312\\lib\\site-packages (1.1.0)\n"
          ]
        },
        {
          "name": "stderr",
          "output_type": "stream",
          "text": [
            "\n",
            "[notice] A new release of pip is available: 24.0 -> 24.2\n",
            "[notice] To update, run: python.exe -m pip install --upgrade pip\n"
          ]
        },
        {
          "name": "stdout",
          "output_type": "stream",
          "text": [
            "Requirement already satisfied: plotly in c:\\python\\python312\\lib\\site-packages (5.22.0)\n",
            "Requirement already satisfied: tenacity>=6.2.0 in c:\\python\\python312\\lib\\site-packages (from plotly) (8.2.3)\n",
            "Requirement already satisfied: packaging in c:\\users\\thony\\appdata\\roaming\\python\\python312\\site-packages (from plotly) (23.2)\n"
          ]
        },
        {
          "name": "stderr",
          "output_type": "stream",
          "text": [
            "\n",
            "[notice] A new release of pip is available: 24.0 -> 24.2\n",
            "[notice] To update, run: python.exe -m pip install --upgrade pip\n"
          ]
        },
        {
          "name": "stdout",
          "output_type": "stream",
          "text": [
            "Requirement already satisfied: wordcloud in c:\\python\\python312\\lib\\site-packages (1.9.3)\n",
            "Requirement already satisfied: numpy>=1.6.1 in c:\\python\\python312\\lib\\site-packages (from wordcloud) (1.26.4)\n",
            "Requirement already satisfied: pillow in c:\\python\\python312\\lib\\site-packages (from wordcloud) (10.2.0)\n",
            "Requirement already satisfied: matplotlib in c:\\python\\python312\\lib\\site-packages (from wordcloud) (3.8.3)\n",
            "Requirement already satisfied: contourpy>=1.0.1 in c:\\python\\python312\\lib\\site-packages (from matplotlib->wordcloud) (1.2.0)\n",
            "Requirement already satisfied: cycler>=0.10 in c:\\python\\python312\\lib\\site-packages (from matplotlib->wordcloud) (0.12.1)\n",
            "Requirement already satisfied: fonttools>=4.22.0 in c:\\python\\python312\\lib\\site-packages (from matplotlib->wordcloud) (4.49.0)\n",
            "Requirement already satisfied: kiwisolver>=1.3.1 in c:\\python\\python312\\lib\\site-packages (from matplotlib->wordcloud) (1.4.5)\n",
            "Requirement already satisfied: packaging>=20.0 in c:\\users\\thony\\appdata\\roaming\\python\\python312\\site-packages (from matplotlib->wordcloud) (23.2)\n",
            "Requirement already satisfied: pyparsing>=2.3.1 in c:\\python\\python312\\lib\\site-packages (from matplotlib->wordcloud) (3.1.1)\n",
            "Requirement already satisfied: python-dateutil>=2.7 in c:\\users\\thony\\appdata\\roaming\\python\\python312\\site-packages (from matplotlib->wordcloud) (2.8.2)\n",
            "Requirement already satisfied: six>=1.5 in c:\\users\\thony\\appdata\\roaming\\python\\python312\\site-packages (from python-dateutil>=2.7->matplotlib->wordcloud) (1.16.0)\n"
          ]
        },
        {
          "name": "stderr",
          "output_type": "stream",
          "text": [
            "\n",
            "[notice] A new release of pip is available: 24.0 -> 24.2\n",
            "[notice] To update, run: python.exe -m pip install --upgrade pip\n"
          ]
        }
      ],
      "source": [
        "!pip install regex\n",
        "!pip install demoji\n",
        "!pip install plotly\n",
        "!pip install wordcloud"
      ]
    },
    {
      "cell_type": "code",
      "execution_count": 2,
      "metadata": {
        "id": "XeNt3V-DHVNV"
      },
      "outputs": [],
      "source": [
        "import pandas as pd\n",
        "import re\n",
        "\n",
        "import regex\n",
        "import demoji\n",
        "\n",
        "import numpy as np\n",
        "from collections import Counter\n",
        "\n",
        "import plotly.express as px\n",
        "import matplotlib.pyplot as plt\n",
        "from PIL import Image\n",
        "from wordcloud import WordCloud, STOPWORDS\n",
        "from IPython.display import display\n",
        "\n"
      ]
    },
    {
      "cell_type": "code",
      "execution_count": 3,
      "metadata": {
        "colab": {
          "base_uri": "https://localhost:8080/"
        },
        "id": "i7C8gp2Bvk1K",
        "outputId": "b5f50baa-6815-46ac-c66a-174034faf5c9"
      },
      "outputs": [
        {
          "name": "stdout",
          "output_type": "stream",
          "text": [
            "Línea 1: 6/12/23, 6:20:33 PM - Nini ❤️: ‎Los mensajes y las llamadas están cifrados de extremo a extremo. Nadie fuera de este chat, ni siquiera WhatsApp, puede leerlos ni escucharlos.\n",
            "\n",
            "Línea 2: 6/12/23, 6:20:33 PM - Anthony ✌️: Entonces te llamas Nina?\n",
            "\n",
            "Línea 3: ‎6/12/23, 6:20:38 PM - Anthony ✌️: ‎<Omitted Sticker>\n",
            "\n",
            "Línea 4: 6/12/23, 6:44:25 PM - Nini ❤️: Sii\n",
            "\n",
            "Línea 5: 6/12/23, 6:44:40 PM - Nini ❤️: Mi nombre es un poco fuera de lo común\n",
            "\n",
            "Línea 6: ‎6/12/23, 6:44:41 PM - Nini ❤️: ‎<Omitted Sticker>\n",
            "\n",
            "Línea 7: 6/12/23, 6:58:09 PM - Anthony ✌️: Jsjsjssj\n",
            "\n",
            "Línea 8: 6/12/23, 6:58:32 PM - Anthony ✌️: A mi prima le decimos siempre Nina pero se llama Jenny\n",
            "\n",
            "Línea 9: 6/12/23, 6:58:49 PM - Anthony ✌️: Pero es curioso que te llames así\n",
            "\n",
            "Línea 10: ‎6/12/23, 6:58:59 PM - Anthony ✌️: ‎<Omitted Sticker>\n",
            "\n"
          ]
        }
      ],
      "source": [
        "# Nombre del archivo\n",
        "file_name = 'Chat Nini y Tiny 13.txt'\n",
        "\n",
        "# Leer el archivo de texto\n",
        "with open(file_name, 'r', encoding='utf-8') as file:\n",
        "    lines = file.readlines()\n",
        "\n",
        "# Imprimir las primeras 10 líneas para verificar el contenido\n",
        "for i, line in enumerate(lines[:10]):\n",
        "    print(f\"Línea {i+1}: {line}\")\n"
      ]
    },
    {
      "cell_type": "code",
      "execution_count": 4,
      "metadata": {
        "id": "osRTQ-cwxpf0"
      },
      "outputs": [],
      "source": [
        "# Función para extraer la fecha\n",
        "def extraer_fecha(linea):\n",
        "    fecha_patron = r'^\\d{1,2}/\\d{1,2}/\\d{2,4}'\n",
        "    fecha = re.search(fecha_patron, linea)\n",
        "    return fecha.group(0) if fecha else None\n",
        "\n",
        "# Función para extraer la hora\n",
        "def extraer_hora(linea):\n",
        "    hora_patron = r'\\d{1,2}:\\d{2}:\\d{2}\\s[APM]{2}'\n",
        "    hora = re.search(hora_patron, linea)\n",
        "    return hora.group(0) if hora else None\n",
        "\n",
        "# Función para extraer el miembro\n",
        "def extraer_miembro(linea):\n",
        "    miembro_patron = r'-\\s(.*?):'\n",
        "    miembro = re.search(miembro_patron, linea)\n",
        "    return miembro.group(1) if miembro else None\n",
        "\n",
        "# Función para extraer el mensaje\n",
        "def extraer_mensaje(linea):\n",
        "    mensaje_patron = r':\\s(.*)'\n",
        "    mensaje = re.search(mensaje_patron, linea)\n",
        "    return mensaje.group(1) if mensaje else None\n",
        "\n",
        "# Crear listas para almacenar los datos\n",
        "fechas = []\n",
        "horas = []\n",
        "miembros = []\n",
        "mensajes = []\n",
        "\n",
        "# Variable para almacenar la última fecha conocida\n",
        "ultima_fecha = None\n",
        "\n",
        "# Procesar cada línea del chat\n",
        "for linea in lines:\n",
        "    fecha = extraer_fecha(linea)\n",
        "    if fecha:\n",
        "        ultima_fecha = fecha\n",
        "    else:\n",
        "        fecha = ultima_fecha\n",
        "\n",
        "    fechas.append(fecha)\n",
        "    horas.append(extraer_hora(linea))\n",
        "    miembros.append(extraer_miembro(linea))\n",
        "    mensajes.append(extraer_mensaje(linea))\n",
        "\n",
        "# Convertir las fechas al formato YYYY-MM-DD\n",
        "fechas = pd.to_datetime(fechas, format='%d/%m/%y', dayfirst=True).strftime('%Y-%m-%d')"
      ]
    },
    {
      "cell_type": "code",
      "execution_count": 5,
      "metadata": {
        "colab": {
          "base_uri": "https://localhost:8080/",
          "height": 206
        },
        "id": "1tISuLEK1TJx",
        "outputId": "625990b9-1f91-4407-9f32-ed035538d844"
      },
      "outputs": [
        {
          "data": {
            "text/html": [
              "<div>\n",
              "<style scoped>\n",
              "    .dataframe tbody tr th:only-of-type {\n",
              "        vertical-align: middle;\n",
              "    }\n",
              "\n",
              "    .dataframe tbody tr th {\n",
              "        vertical-align: top;\n",
              "    }\n",
              "\n",
              "    .dataframe thead th {\n",
              "        text-align: right;\n",
              "    }\n",
              "</style>\n",
              "<table border=\"1\" class=\"dataframe\">\n",
              "  <thead>\n",
              "    <tr style=\"text-align: right;\">\n",
              "      <th></th>\n",
              "      <th>Fecha</th>\n",
              "      <th>Hora</th>\n",
              "      <th>Miembro</th>\n",
              "      <th>Mensaje</th>\n",
              "    </tr>\n",
              "  </thead>\n",
              "  <tbody>\n",
              "    <tr>\n",
              "      <th>0</th>\n",
              "      <td>2023-12-06</td>\n",
              "      <td>6:20:33 PM</td>\n",
              "      <td>Nini ❤️</td>\n",
              "      <td>‎Los mensajes y las llamadas están cifrados de...</td>\n",
              "    </tr>\n",
              "    <tr>\n",
              "      <th>1</th>\n",
              "      <td>2023-12-06</td>\n",
              "      <td>6:20:33 PM</td>\n",
              "      <td>Anthony ✌️</td>\n",
              "      <td>Entonces te llamas Nina?</td>\n",
              "    </tr>\n",
              "    <tr>\n",
              "      <th>2</th>\n",
              "      <td>2023-12-06</td>\n",
              "      <td>6:20:38 PM</td>\n",
              "      <td>Anthony ✌️</td>\n",
              "      <td>‎&lt;Omitted Sticker&gt;</td>\n",
              "    </tr>\n",
              "    <tr>\n",
              "      <th>3</th>\n",
              "      <td>2023-12-06</td>\n",
              "      <td>6:44:25 PM</td>\n",
              "      <td>Nini ❤️</td>\n",
              "      <td>Sii</td>\n",
              "    </tr>\n",
              "    <tr>\n",
              "      <th>4</th>\n",
              "      <td>2023-12-06</td>\n",
              "      <td>6:44:40 PM</td>\n",
              "      <td>Nini ❤️</td>\n",
              "      <td>Mi nombre es un poco fuera de lo común</td>\n",
              "    </tr>\n",
              "  </tbody>\n",
              "</table>\n",
              "</div>"
            ],
            "text/plain": [
              "        Fecha        Hora     Miembro  \\\n",
              "0  2023-12-06  6:20:33 PM     Nini ❤️   \n",
              "1  2023-12-06  6:20:33 PM  Anthony ✌️   \n",
              "2  2023-12-06  6:20:38 PM  Anthony ✌️   \n",
              "3  2023-12-06  6:44:25 PM     Nini ❤️   \n",
              "4  2023-12-06  6:44:40 PM     Nini ❤️   \n",
              "\n",
              "                                             Mensaje  \n",
              "0  ‎Los mensajes y las llamadas están cifrados de...  \n",
              "1                           Entonces te llamas Nina?  \n",
              "2                                 ‎<Omitted Sticker>  \n",
              "3                                                Sii  \n",
              "4             Mi nombre es un poco fuera de lo común  "
            ]
          },
          "metadata": {},
          "output_type": "display_data"
        }
      ],
      "source": [
        "# Crear un DataFrame con los datos extraídos\n",
        "data = {\n",
        "    'Fecha': fechas,\n",
        "    'Hora': horas,\n",
        "    'Miembro': miembros,\n",
        "    'Mensaje': mensajes\n",
        "}\n",
        "\n",
        "df = pd.DataFrame(data)\n",
        "\n",
        "# Utilizar el método display para visualizar el DataFrame\n",
        "display(df.head())"
      ]
    },
    {
      "cell_type": "code",
      "execution_count": 6,
      "metadata": {
        "colab": {
          "base_uri": "https://localhost:8080/",
          "height": 363
        },
        "id": "W_SpkTTJ6hig",
        "outputId": "bb2ac4bb-2785-4aac-cf79-b30747199642"
      },
      "outputs": [
        {
          "data": {
            "text/html": [
              "<div>\n",
              "<style scoped>\n",
              "    .dataframe tbody tr th:only-of-type {\n",
              "        vertical-align: middle;\n",
              "    }\n",
              "\n",
              "    .dataframe tbody tr th {\n",
              "        vertical-align: top;\n",
              "    }\n",
              "\n",
              "    .dataframe thead th {\n",
              "        text-align: right;\n",
              "    }\n",
              "</style>\n",
              "<table border=\"1\" class=\"dataframe\">\n",
              "  <thead>\n",
              "    <tr style=\"text-align: right;\">\n",
              "      <th></th>\n",
              "      <th>Fecha</th>\n",
              "      <th>Hora</th>\n",
              "      <th>Miembro</th>\n",
              "      <th>Mensaje</th>\n",
              "    </tr>\n",
              "  </thead>\n",
              "  <tbody>\n",
              "    <tr>\n",
              "      <th>36272</th>\n",
              "      <td>2024-05-16</td>\n",
              "      <td>6:58:17 PM</td>\n",
              "      <td>Anthony ✌️</td>\n",
              "      <td>Pero ya se aclaró que era mi mente</td>\n",
              "    </tr>\n",
              "    <tr>\n",
              "      <th>36273</th>\n",
              "      <td>2024-05-16</td>\n",
              "      <td>6:58:19 PM</td>\n",
              "      <td>Anthony ✌️</td>\n",
              "      <td>Mala mía</td>\n",
              "    </tr>\n",
              "    <tr>\n",
              "      <th>36274</th>\n",
              "      <td>2024-05-16</td>\n",
              "      <td>6:58:39 PM</td>\n",
              "      <td>Anthony ✌️</td>\n",
              "      <td>Si medio que parece que me hago de rogar no ha...</td>\n",
              "    </tr>\n",
              "    <tr>\n",
              "      <th>36275</th>\n",
              "      <td>2024-05-16</td>\n",
              "      <td>6:59:02 PM</td>\n",
              "      <td>Anthony ✌️</td>\n",
              "      <td>Pero camina conmigo</td>\n",
              "    </tr>\n",
              "    <tr>\n",
              "      <th>36276</th>\n",
              "      <td>2024-05-16</td>\n",
              "      <td>6:59:07 PM</td>\n",
              "      <td>Anthony ✌️</td>\n",
              "      <td>‎&lt;Omitted Sticker&gt;</td>\n",
              "    </tr>\n",
              "    <tr>\n",
              "      <th>36277</th>\n",
              "      <td>2024-05-16</td>\n",
              "      <td>6:59:19 PM</td>\n",
              "      <td>Anthony ✌️</td>\n",
              "      <td>Te amoooo mi chiquita</td>\n",
              "    </tr>\n",
              "    <tr>\n",
              "      <th>36278</th>\n",
              "      <td>2024-05-16</td>\n",
              "      <td>6:59:25 PM</td>\n",
              "      <td>Anthony ✌️</td>\n",
              "      <td>Lo hiciste muy bien hoy día</td>\n",
              "    </tr>\n",
              "    <tr>\n",
              "      <th>36279</th>\n",
              "      <td>2024-05-16</td>\n",
              "      <td>6:59:29 PM</td>\n",
              "      <td>Anthony ✌️</td>\n",
              "      <td>Lo de la u</td>\n",
              "    </tr>\n",
              "    <tr>\n",
              "      <th>36280</th>\n",
              "      <td>2024-05-16</td>\n",
              "      <td>6:59:48 PM</td>\n",
              "      <td>Anthony ✌️</td>\n",
              "      <td>Y pues todo saldrá muy bien</td>\n",
              "    </tr>\n",
              "    <tr>\n",
              "      <th>36281</th>\n",
              "      <td>2024-05-16</td>\n",
              "      <td>6:59:50 PM</td>\n",
              "      <td>Anthony ✌️</td>\n",
              "      <td>Ya vas a ver</td>\n",
              "    </tr>\n",
              "  </tbody>\n",
              "</table>\n",
              "</div>"
            ],
            "text/plain": [
              "            Fecha        Hora     Miembro  \\\n",
              "36272  2024-05-16  6:58:17 PM  Anthony ✌️   \n",
              "36273  2024-05-16  6:58:19 PM  Anthony ✌️   \n",
              "36274  2024-05-16  6:58:39 PM  Anthony ✌️   \n",
              "36275  2024-05-16  6:59:02 PM  Anthony ✌️   \n",
              "36276  2024-05-16  6:59:07 PM  Anthony ✌️   \n",
              "36277  2024-05-16  6:59:19 PM  Anthony ✌️   \n",
              "36278  2024-05-16  6:59:25 PM  Anthony ✌️   \n",
              "36279  2024-05-16  6:59:29 PM  Anthony ✌️   \n",
              "36280  2024-05-16  6:59:48 PM  Anthony ✌️   \n",
              "36281  2024-05-16  6:59:50 PM  Anthony ✌️   \n",
              "\n",
              "                                                 Mensaje  \n",
              "36272                 Pero ya se aclaró que era mi mente  \n",
              "36273                                           Mala mía  \n",
              "36274  Si medio que parece que me hago de rogar no ha...  \n",
              "36275                                Pero camina conmigo  \n",
              "36276                                 ‎<Omitted Sticker>  \n",
              "36277                              Te amoooo mi chiquita  \n",
              "36278                        Lo hiciste muy bien hoy día  \n",
              "36279                                         Lo de la u  \n",
              "36280                        Y pues todo saldrá muy bien  \n",
              "36281                                       Ya vas a ver  "
            ]
          },
          "metadata": {},
          "output_type": "display_data"
        }
      ],
      "source": [
        "display(df.tail(10))\n"
      ]
    },
    {
      "cell_type": "code",
      "execution_count": 7,
      "metadata": {
        "id": "Js3hCdFE7LOF"
      },
      "outputs": [],
      "source": [
        "start_date = '2023-12-06'\n",
        "end_date = '2024-05-17'\n",
        "\n",
        "df_filtrado = df[(df['Fecha'] >= start_date) & (df['Fecha'] <= end_date)]"
      ]
    },
    {
      "cell_type": "code",
      "execution_count": 8,
      "metadata": {
        "colab": {
          "base_uri": "https://localhost:8080/",
          "height": 424
        },
        "id": "94IntZv48NlD",
        "outputId": "9d833d4a-d06f-4e33-9735-dc514c6dbbf0"
      },
      "outputs": [
        {
          "data": {
            "text/html": [
              "<div>\n",
              "<style scoped>\n",
              "    .dataframe tbody tr th:only-of-type {\n",
              "        vertical-align: middle;\n",
              "    }\n",
              "\n",
              "    .dataframe tbody tr th {\n",
              "        vertical-align: top;\n",
              "    }\n",
              "\n",
              "    .dataframe thead th {\n",
              "        text-align: right;\n",
              "    }\n",
              "</style>\n",
              "<table border=\"1\" class=\"dataframe\">\n",
              "  <thead>\n",
              "    <tr style=\"text-align: right;\">\n",
              "      <th></th>\n",
              "      <th>Fecha</th>\n",
              "      <th>Hora</th>\n",
              "      <th>Miembro</th>\n",
              "      <th>Mensaje</th>\n",
              "    </tr>\n",
              "  </thead>\n",
              "  <tbody>\n",
              "    <tr>\n",
              "      <th>0</th>\n",
              "      <td>2023-12-06</td>\n",
              "      <td>6:20:33 PM</td>\n",
              "      <td>Nini ❤️</td>\n",
              "      <td>‎Los mensajes y las llamadas están cifrados de...</td>\n",
              "    </tr>\n",
              "    <tr>\n",
              "      <th>1</th>\n",
              "      <td>2023-12-06</td>\n",
              "      <td>6:20:33 PM</td>\n",
              "      <td>Anthony ✌️</td>\n",
              "      <td>Entonces te llamas Nina?</td>\n",
              "    </tr>\n",
              "    <tr>\n",
              "      <th>2</th>\n",
              "      <td>2023-12-06</td>\n",
              "      <td>6:20:38 PM</td>\n",
              "      <td>Anthony ✌️</td>\n",
              "      <td>‎&lt;Omitted Sticker&gt;</td>\n",
              "    </tr>\n",
              "    <tr>\n",
              "      <th>3</th>\n",
              "      <td>2023-12-06</td>\n",
              "      <td>6:44:25 PM</td>\n",
              "      <td>Nini ❤️</td>\n",
              "      <td>Sii</td>\n",
              "    </tr>\n",
              "    <tr>\n",
              "      <th>4</th>\n",
              "      <td>2023-12-06</td>\n",
              "      <td>6:44:40 PM</td>\n",
              "      <td>Nini ❤️</td>\n",
              "      <td>Mi nombre es un poco fuera de lo común</td>\n",
              "    </tr>\n",
              "    <tr>\n",
              "      <th>...</th>\n",
              "      <td>...</td>\n",
              "      <td>...</td>\n",
              "      <td>...</td>\n",
              "      <td>...</td>\n",
              "    </tr>\n",
              "    <tr>\n",
              "      <th>36277</th>\n",
              "      <td>2024-05-16</td>\n",
              "      <td>6:59:19 PM</td>\n",
              "      <td>Anthony ✌️</td>\n",
              "      <td>Te amoooo mi chiquita</td>\n",
              "    </tr>\n",
              "    <tr>\n",
              "      <th>36278</th>\n",
              "      <td>2024-05-16</td>\n",
              "      <td>6:59:25 PM</td>\n",
              "      <td>Anthony ✌️</td>\n",
              "      <td>Lo hiciste muy bien hoy día</td>\n",
              "    </tr>\n",
              "    <tr>\n",
              "      <th>36279</th>\n",
              "      <td>2024-05-16</td>\n",
              "      <td>6:59:29 PM</td>\n",
              "      <td>Anthony ✌️</td>\n",
              "      <td>Lo de la u</td>\n",
              "    </tr>\n",
              "    <tr>\n",
              "      <th>36280</th>\n",
              "      <td>2024-05-16</td>\n",
              "      <td>6:59:48 PM</td>\n",
              "      <td>Anthony ✌️</td>\n",
              "      <td>Y pues todo saldrá muy bien</td>\n",
              "    </tr>\n",
              "    <tr>\n",
              "      <th>36281</th>\n",
              "      <td>2024-05-16</td>\n",
              "      <td>6:59:50 PM</td>\n",
              "      <td>Anthony ✌️</td>\n",
              "      <td>Ya vas a ver</td>\n",
              "    </tr>\n",
              "  </tbody>\n",
              "</table>\n",
              "<p>36282 rows × 4 columns</p>\n",
              "</div>"
            ],
            "text/plain": [
              "            Fecha        Hora     Miembro  \\\n",
              "0      2023-12-06  6:20:33 PM     Nini ❤️   \n",
              "1      2023-12-06  6:20:33 PM  Anthony ✌️   \n",
              "2      2023-12-06  6:20:38 PM  Anthony ✌️   \n",
              "3      2023-12-06  6:44:25 PM     Nini ❤️   \n",
              "4      2023-12-06  6:44:40 PM     Nini ❤️   \n",
              "...           ...         ...         ...   \n",
              "36277  2024-05-16  6:59:19 PM  Anthony ✌️   \n",
              "36278  2024-05-16  6:59:25 PM  Anthony ✌️   \n",
              "36279  2024-05-16  6:59:29 PM  Anthony ✌️   \n",
              "36280  2024-05-16  6:59:48 PM  Anthony ✌️   \n",
              "36281  2024-05-16  6:59:50 PM  Anthony ✌️   \n",
              "\n",
              "                                                 Mensaje  \n",
              "0      ‎Los mensajes y las llamadas están cifrados de...  \n",
              "1                               Entonces te llamas Nina?  \n",
              "2                                     ‎<Omitted Sticker>  \n",
              "3                                                    Sii  \n",
              "4                 Mi nombre es un poco fuera de lo común  \n",
              "...                                                  ...  \n",
              "36277                              Te amoooo mi chiquita  \n",
              "36278                        Lo hiciste muy bien hoy día  \n",
              "36279                                         Lo de la u  \n",
              "36280                        Y pues todo saldrá muy bien  \n",
              "36281                                       Ya vas a ver  \n",
              "\n",
              "[36282 rows x 4 columns]"
            ]
          },
          "metadata": {},
          "output_type": "display_data"
        }
      ],
      "source": [
        "\n",
        "display(df_filtrado)"
      ]
    },
    {
      "cell_type": "code",
      "execution_count": 9,
      "metadata": {
        "colab": {
          "base_uri": "https://localhost:8080/",
          "height": 300
        },
        "id": "PYUeCMXZ8Sh2",
        "outputId": "87118592-f5c4-467b-d9d6-92297a883b82"
      },
      "outputs": [
        {
          "data": {
            "text/html": [
              "<div>\n",
              "<style scoped>\n",
              "    .dataframe tbody tr th:only-of-type {\n",
              "        vertical-align: middle;\n",
              "    }\n",
              "\n",
              "    .dataframe tbody tr th {\n",
              "        vertical-align: top;\n",
              "    }\n",
              "\n",
              "    .dataframe thead th {\n",
              "        text-align: right;\n",
              "    }\n",
              "</style>\n",
              "<table border=\"1\" class=\"dataframe\">\n",
              "  <thead>\n",
              "    <tr style=\"text-align: right;\">\n",
              "      <th></th>\n",
              "      <th>Cantidad</th>\n",
              "    </tr>\n",
              "    <tr>\n",
              "      <th>Tipo</th>\n",
              "      <th></th>\n",
              "    </tr>\n",
              "  </thead>\n",
              "  <tbody>\n",
              "    <tr>\n",
              "      <th>Mensajes</th>\n",
              "      <td>36282</td>\n",
              "    </tr>\n",
              "    <tr>\n",
              "      <th>Multimedia</th>\n",
              "      <td>620</td>\n",
              "    </tr>\n",
              "    <tr>\n",
              "      <th>Audios</th>\n",
              "      <td>764</td>\n",
              "    </tr>\n",
              "    <tr>\n",
              "      <th>Stickers</th>\n",
              "      <td>5373</td>\n",
              "    </tr>\n",
              "    <tr>\n",
              "      <th>Emojis</th>\n",
              "      <td>1344</td>\n",
              "    </tr>\n",
              "    <tr>\n",
              "      <th>Links</th>\n",
              "      <td>35</td>\n",
              "    </tr>\n",
              "    <tr>\n",
              "      <th>Encuestas</th>\n",
              "      <td>0</td>\n",
              "    </tr>\n",
              "  </tbody>\n",
              "</table>\n",
              "</div>"
            ],
            "text/plain": [
              "            Cantidad\n",
              "Tipo                \n",
              "Mensajes       36282\n",
              "Multimedia       620\n",
              "Audios           764\n",
              "Stickers        5373\n",
              "Emojis          1344\n",
              "Links             35\n",
              "Encuestas          0"
            ]
          },
          "metadata": {},
          "output_type": "display_data"
        }
      ],
      "source": [
        "\n",
        "\n",
        "def ObtenerEmojis(Mensaje):\n",
        "    if isinstance(Mensaje, str):\n",
        "        emoji_lista = []\n",
        "        data = regex.findall(r'\\X', Mensaje)  # Obtener lista de caracteres de cada mensaje\n",
        "        for caracter in data:\n",
        "            if demoji.replace(caracter) != caracter:\n",
        "                emoji_lista.append(caracter)\n",
        "        return emoji_lista\n",
        "    else:\n",
        "        return []\n",
        "\n",
        "# Obtener la cantidad total de mensajes\n",
        "total_mensajes = df.shape[0]\n",
        "\n",
        "# Obtener la cantidad de archivos multimedia enviados\n",
        "multimedia_mensajes = df['Mensaje'].str.contains('<Media omitted>', case=False, regex=True, na=False).sum()\n",
        "\n",
        "# Obtener la cantidad de audios omitidos\n",
        "audios_omitidos = df['Mensaje'].str.contains('<Omitted Audio>', case=False, regex=True, na=False).sum()\n",
        "\n",
        "# Obtener la cantidad de stickers omitidos\n",
        "stickers_omitidos = df['Mensaje'].str.contains('<Omitted Sticker>', case=False, regex=True, na=False).sum()\n",
        "\n",
        "# Obtener la cantidad de emojis enviados\n",
        "df['Emojis'] = df['Mensaje'].apply(ObtenerEmojis)  # Se agrega columna 'Emojis'\n",
        "emojis = sum(df['Emojis'].str.len())\n",
        "\n",
        "# Obtener la cantidad de links enviados\n",
        "url_patron = r'(https?://\\S+)'\n",
        "df['URLs'] = df['Mensaje'].apply(lambda x: len(re.findall(url_patron, str(x))) if isinstance(x, str) else 0)\n",
        "links = sum(df['URLs'])\n",
        "\n",
        "# Obtener la cantidad de encuestas\n",
        "encuestas = df[df['Mensaje'] == 'POLL:'].shape[0]\n",
        "\n",
        "# Todos los datos pasarlo a diccionario\n",
        "estadistica_dict = {'Tipo': ['Mensajes', 'Multimedia', 'Audios', 'Stickers', 'Emojis', 'Links', 'Encuestas'],\n",
        "                    'Cantidad': [total_mensajes, multimedia_mensajes, audios_omitidos, stickers_omitidos, emojis, links, encuestas]\n",
        "                   }\n",
        "\n",
        "# Convertir diccionario a dataframe\n",
        "estadistica_df = pd.DataFrame(estadistica_dict, columns=['Tipo', 'Cantidad'])\n",
        "\n",
        "# Establecer la columna Tipo como índice\n",
        "estadistica_df = estadistica_df.set_index('Tipo')\n",
        "\n",
        "# Alinear el encabezado \"Cantidad\"\n",
        "styled_df = estadistica_df.style.set_properties(**{'text-align': 'left'})\n",
        "styled_df = styled_df.set_table_styles(\n",
        "    [dict(selector='th', props=[('text-align', 'center')])]\n",
        ")\n",
        "\n",
        "display(estadistica_df)"
      ]
    },
    {
      "cell_type": "code",
      "execution_count": 10,
      "metadata": {
        "colab": {
          "base_uri": "https://localhost:8080/",
          "height": 607
        },
        "id": "4-pXO3_D6oN2",
        "outputId": "e1c67cc1-e816-4dc2-fa01-45c2d21c0772"
      },
      "outputs": [
        {
          "data": {
            "image/png": "[encoded data removed]",
            "text/plain": [
              "<Figure size 1000x600 with 1 Axes>"
            ]
          },
          "metadata": {},
          "output_type": "display_data"
        }
      ],
      "source": [
        "\n",
        "\n",
        "# Obtener los datos del DataFrame\n",
        "tipos = estadistica_df.index.tolist()\n",
        "cantidades = estadistica_df['Cantidad'].tolist()\n",
        "\n",
        "# Crear una lista de tuplas (tipo, cantidad) y ordenarla de mayor a menor\n",
        "datos_ordenados = sorted(zip(tipos, cantidades), key=lambda x: x[1], reverse=True)\n",
        "\n",
        "# Separar los tipos y cantidades ordenados\n",
        "tipos_ordenados, cantidades_ordenadas = zip(*datos_ordenados)\n",
        "\n",
        "# Crear una figura y un eje\n",
        "fig, ax = plt.subplots(figsize=(10, 6))\n",
        "\n",
        "# Definir una paleta de colores pastel\n",
        "colores_pastel = ['#FFD1DC', '#FFC0CB', '#FFDAB9', '#E6E6FA', '#B0E0E6', '#98FB98', '#AFEEEE']\n",
        "n_colores = len(tipos_ordenados)\n",
        "colores = colores_pastel[:n_colores]\n",
        "\n",
        "# Graficar las barras con la paleta de colores pastel y los datos ordenados\n",
        "barras = ax.bar(tipos_ordenados, cantidades_ordenadas, color=colores)\n",
        "\n",
        "# Personalizar el gráfico\n",
        "ax.set_title('Estadísticas del Chat', fontsize=16, color='white')\n",
        "ax.set_xlabel('Tipo', fontsize=12, color='white')\n",
        "ax.set_ylabel('Cantidad', fontsize=12, color='white')\n",
        "ax.tick_params(axis='x', labelsize=10, labelrotation=45, colors='white')\n",
        "ax.tick_params(axis='y', labelsize=10, colors='white')\n",
        "\n",
        "# Agregar etiquetas con los valores encima de cada barra\n",
        "for barra in barras:\n",
        "    altura = barra.get_height()\n",
        "    ax.annotate(f'{altura}', xy=(barra.get_x() + barra.get_width() / 2, altura),\n",
        "                xytext=(0, 3), textcoords='offset points', ha='center', va='bottom',\n",
        "                fontsize=10, color='white')\n",
        "\n",
        "# Configurar el fondo negro\n",
        "fig.set_facecolor('black')\n",
        "ax.set_facecolor('black')\n",
        "ax.spines['top'].set_visible(False)\n",
        "ax.spines['right'].set_visible(False)\n",
        "ax.spines['bottom'].set_color('white')\n",
        "ax.spines['left'].set_color('white')\n",
        "\n",
        "# Mostrar el gráfico\n",
        "plt.tight_layout()\n",
        "plt.show()"
      ]
    },
    {
      "cell_type": "code",
      "execution_count": 11,
      "metadata": {
        "colab": {
          "base_uri": "https://localhost:8080/",
          "height": 429
        },
        "id": "o0btckbLUob3",
        "outputId": "ed8d0c59-13f8-4ec2-c77c-c8277cecc401"
      },
      "outputs": [
        {
          "name": "stdout",
          "output_type": "stream",
          "text": [
            "Número emojis únicos usados:  10 \n",
            "\n"
          ]
        },
        {
          "data": {
            "text/html": [
              "<div>\n",
              "<style scoped>\n",
              "    .dataframe tbody tr th:only-of-type {\n",
              "        vertical-align: middle;\n",
              "    }\n",
              "\n",
              "    .dataframe tbody tr th {\n",
              "        vertical-align: top;\n",
              "    }\n",
              "\n",
              "    .dataframe thead th {\n",
              "        text-align: right;\n",
              "    }\n",
              "</style>\n",
              "<table border=\"1\" class=\"dataframe\">\n",
              "  <thead>\n",
              "    <tr style=\"text-align: right;\">\n",
              "      <th></th>\n",
              "      <th>Cantidad</th>\n",
              "    </tr>\n",
              "    <tr>\n",
              "      <th>Emoji</th>\n",
              "      <th></th>\n",
              "    </tr>\n",
              "  </thead>\n",
              "  <tbody>\n",
              "    <tr>\n",
              "      <th>❤️</th>\n",
              "      <td>756</td>\n",
              "    </tr>\n",
              "    <tr>\n",
              "      <th>🥰</th>\n",
              "      <td>126</td>\n",
              "    </tr>\n",
              "    <tr>\n",
              "      <th>🫶🏻</th>\n",
              "      <td>47</td>\n",
              "    </tr>\n",
              "    <tr>\n",
              "      <th>😔</th>\n",
              "      <td>39</td>\n",
              "    </tr>\n",
              "    <tr>\n",
              "      <th>😻</th>\n",
              "      <td>38</td>\n",
              "    </tr>\n",
              "    <tr>\n",
              "      <th>🥺</th>\n",
              "      <td>28</td>\n",
              "    </tr>\n",
              "    <tr>\n",
              "      <th>🙄</th>\n",
              "      <td>25</td>\n",
              "    </tr>\n",
              "    <tr>\n",
              "      <th>💕</th>\n",
              "      <td>22</td>\n",
              "    </tr>\n",
              "    <tr>\n",
              "      <th>💘</th>\n",
              "      <td>20</td>\n",
              "    </tr>\n",
              "    <tr>\n",
              "      <th>💀</th>\n",
              "      <td>16</td>\n",
              "    </tr>\n",
              "  </tbody>\n",
              "</table>\n",
              "</div>"
            ],
            "text/plain": [
              "       Cantidad\n",
              "Emoji          \n",
              "❤️          756\n",
              "🥰           126\n",
              "🫶🏻           47\n",
              "😔            39\n",
              "😻            38\n",
              "🥺            28\n",
              "🙄            25\n",
              "💕            22\n",
              "💘            20\n",
              "💀            16"
            ]
          },
          "execution_count": 11,
          "metadata": {},
          "output_type": "execute_result"
        }
      ],
      "source": [
        "# Obtener emojis más usados y las cantidades en el chat del grupo del dataframe\n",
        "emojis_lista = list([a for b in df.Emojis for a in b])\n",
        "emoji_diccionario = dict(Counter(emojis_lista))\n",
        "emoji_diccionario = sorted(emoji_diccionario.items(), key=lambda x: x[1], reverse=True)\n",
        "\n",
        "# Convertir el diccionario a dataframe\n",
        "emoji_df = pd.DataFrame(emoji_diccionario, columns=['Emoji', 'Cantidad'])\n",
        "\n",
        "# Establecer la columna Emoji como índice\n",
        "emoji_df = emoji_df.set_index('Emoji').head(10)\n",
        "\n",
        "print('Número emojis únicos usados: ', len(emoji_df), '\\n')\n",
        "emoji_df"
      ]
    },
    {
      "cell_type": "code",
      "execution_count": 12,
      "metadata": {
        "colab": {
          "base_uri": "https://localhost:8080/",
          "height": 542
        },
        "id": "XTYSUQQZVc9u",
        "outputId": "3645bbe7-e875-4a53-ef56-8058199c8b2c"
      },
      "outputs": [
        {
          "data": {
            "application/vnd.plotly.v1+json": {
              "config": {
                "plotlyServerURL": "https://plot.ly"
              },
              "data": [
                {
                  "domain": {
                    "x": [
                      0,
                      1
                    ],
                    "y": [
                      0,
                      1
                    ]
                  },
                  "hole": 0.3,
                  "hovertemplate": "Emoji=%{label}<br>Cantidad=%{value}<extra></extra>",
                  "labels": [
                    "❤️",
                    "🥰",
                    "🫶🏻",
                    "😔",
                    "😻",
                    "🥺",
                    "🙄",
                    "💕",
                    "💘",
                    "💀"
                  ],
                  "legendgroup": "",
                  "name": "",
                  "showlegend": true,
                  "textinfo": "percent+label",
                  "textposition": "inside",
                  "type": "pie",
                  "values": [
                    756,
                    126,
                    47,
                    39,
                    38,
                    28,
                    25,
                    22,
                    20,
                    16
                  ]
                }
              ],
              "layout": {
                "font": {
                  "size": 17
                },
                "legend": {
                  "tracegroupgap": 0
                },
                "margin": {
                  "t": 60
                },
                "piecolorway": [
                  "rgb(179,226,205)",
                  "rgb(253,205,172)",
                  "rgb(203,213,232)",
                  "rgb(244,202,228)",
                  "rgb(230,245,201)",
                  "rgb(255,242,174)",
                  "rgb(241,226,204)",
                  "rgb(204,204,204)"
                ],
                "template": {
                  "data": {
                    "bar": [
                      {
                        "error_x": {
                          "color": "#f2f5fa"
                        },
                        "error_y": {
                          "color": "#f2f5fa"
                        },
                        "marker": {
                          "line": {
                            "color": "rgb(17,17,17)",
                            "width": 0.5
                          },
                          "pattern": {
                            "fillmode": "overlay",
                            "size": 10,
                            "solidity": 0.2
                          }
                        },
                        "type": "bar"
                      }
                    ],
                    "barpolar": [
                      {
                        "marker": {
                          "line": {
                            "color": "rgb(17,17,17)",
                            "width": 0.5
                          },
                          "pattern": {
                            "fillmode": "overlay",
                            "size": 10,
                            "solidity": 0.2
                          }
                        },
                        "type": "barpolar"
                      }
                    ],
                    "carpet": [
                      {
                        "aaxis": {
                          "endlinecolor": "#A2B1C6",
                          "gridcolor": "#506784",
                          "linecolor": "#506784",
                          "minorgridcolor": "#506784",
                          "startlinecolor": "#A2B1C6"
                        },
                        "baxis": {
                          "endlinecolor": "#A2B1C6",
                          "gridcolor": "#506784",
                          "linecolor": "#506784",
                          "minorgridcolor": "#506784",
                          "startlinecolor": "#A2B1C6"
                        },
                        "type": "carpet"
                      }
                    ],
                    "choropleth": [
                      {
                        "colorbar": {
                          "outlinewidth": 0,
                          "ticks": ""
                        },
                        "type": "choropleth"
                      }
                    ],
                    "contour": [
                      {
                        "colorbar": {
                          "outlinewidth": 0,
                          "ticks": ""
                        },
                        "colorscale": [
                          [
                            0,
                            "#0d0887"
                          ],
                          [
                            0.1111111111111111,
                            "#46039f"
                          ],
                          [
                            0.2222222222222222,
                            "#7201a8"
                          ],
                          [
                            0.3333333333333333,
                            "#9c179e"
                          ],
                          [
                            0.4444444444444444,
                            "#bd3786"
                          ],
                          [
                            0.5555555555555556,
                            "#d8576b"
                          ],
                          [
                            0.6666666666666666,
                            "#ed7953"
                          ],
                          [
                            0.7777777777777778,
                            "#fb9f3a"
                          ],
                          [
                            0.8888888888888888,
                            "#fdca26"
                          ],
                          [
                            1,
                            "#f0f921"
                          ]
                        ],
                        "type": "contour"
                      }
                    ],
                    "contourcarpet": [
                      {
                        "colorbar": {
                          "outlinewidth": 0,
                          "ticks": ""
                        },
                        "type": "contourcarpet"
                      }
                    ],
                    "heatmap": [
                      {
                        "colorbar": {
                          "outlinewidth": 0,
                          "ticks": ""
                        },
                        "colorscale": [
                          [
                            0,
                            "#0d0887"
                          ],
                          [
                            0.1111111111111111,
                            "#46039f"
                          ],
                          [
                            0.2222222222222222,
                            "#7201a8"
                          ],
                          [
                            0.3333333333333333,
                            "#9c179e"
                          ],
                          [
                            0.4444444444444444,
                            "#bd3786"
                          ],
                          [
                            0.5555555555555556,
                            "#d8576b"
                          ],
                          [
                            0.6666666666666666,
                            "#ed7953"
                          ],
                          [
                            0.7777777777777778,
                            "#fb9f3a"
                          ],
                          [
                            0.8888888888888888,
                            "#fdca26"
                          ],
                          [
                            1,
                            "#f0f921"
                          ]
                        ],
                        "type": "heatmap"
                      }
                    ],
                    "heatmapgl": [
                      {
                        "colorbar": {
                          "outlinewidth": 0,
                          "ticks": ""
                        },
                        "colorscale": [
                          [
                            0,
                            "#0d0887"
                          ],
                          [
                            0.1111111111111111,
                            "#46039f"
                          ],
                          [
                            0.2222222222222222,
                            "#7201a8"
                          ],
                          [
                            0.3333333333333333,
                            "#9c179e"
                          ],
                          [
                            0.4444444444444444,
                            "#bd3786"
                          ],
                          [
                            0.5555555555555556,
                            "#d8576b"
                          ],
                          [
                            0.6666666666666666,
                            "#ed7953"
                          ],
                          [
                            0.7777777777777778,
                            "#fb9f3a"
                          ],
                          [
                            0.8888888888888888,
                            "#fdca26"
                          ],
                          [
                            1,
                            "#f0f921"
                          ]
                        ],
                        "type": "heatmapgl"
                      }
                    ],
                    "histogram": [
                      {
                        "marker": {
                          "pattern": {
                            "fillmode": "overlay",
                            "size": 10,
                            "solidity": 0.2
                          }
                        },
                        "type": "histogram"
                      }
                    ],
                    "histogram2d": [
                      {
                        "colorbar": {
                          "outlinewidth": 0,
                          "ticks": ""
                        },
                        "colorscale": [
                          [
                            0,
                            "#0d0887"
                          ],
                          [
                            0.1111111111111111,
                            "#46039f"
                          ],
                          [
                            0.2222222222222222,
                            "#7201a8"
                          ],
                          [
                            0.3333333333333333,
                            "#9c179e"
                          ],
                          [
                            0.4444444444444444,
                            "#bd3786"
                          ],
                          [
                            0.5555555555555556,
                            "#d8576b"
                          ],
                          [
                            0.6666666666666666,
                            "#ed7953"
                          ],
                          [
                            0.7777777777777778,
                            "#fb9f3a"
                          ],
                          [
                            0.8888888888888888,
                            "#fdca26"
                          ],
                          [
                            1,
                            "#f0f921"
                          ]
                        ],
                        "type": "histogram2d"
                      }
                    ],
                    "histogram2dcontour": [
                      {
                        "colorbar": {
                          "outlinewidth": 0,
                          "ticks": ""
                        },
                        "colorscale": [
                          [
                            0,
                            "#0d0887"
                          ],
                          [
                            0.1111111111111111,
                            "#46039f"
                          ],
                          [
                            0.2222222222222222,
                            "#7201a8"
                          ],
                          [
                            0.3333333333333333,
                            "#9c179e"
                          ],
                          [
                            0.4444444444444444,
                            "#bd3786"
                          ],
                          [
                            0.5555555555555556,
                            "#d8576b"
                          ],
                          [
                            0.6666666666666666,
                            "#ed7953"
                          ],
                          [
                            0.7777777777777778,
                            "#fb9f3a"
                          ],
                          [
                            0.8888888888888888,
                            "#fdca26"
                          ],
                          [
                            1,
                            "#f0f921"
                          ]
                        ],
                        "type": "histogram2dcontour"
                      }
                    ],
                    "mesh3d": [
                      {
                        "colorbar": {
                          "outlinewidth": 0,
                          "ticks": ""
                        },
                        "type": "mesh3d"
                      }
                    ],
                    "parcoords": [
                      {
                        "line": {
                          "colorbar": {
                            "outlinewidth": 0,
                            "ticks": ""
                          }
                        },
                        "type": "parcoords"
                      }
                    ],
                    "pie": [
                      {
                        "automargin": true,
                        "type": "pie"
                      }
                    ],
                    "scatter": [
                      {
                        "marker": {
                          "line": {
                            "color": "#283442"
                          }
                        },
                        "type": "scatter"
                      }
                    ],
                    "scatter3d": [
                      {
                        "line": {
                          "colorbar": {
                            "outlinewidth": 0,
                            "ticks": ""
                          }
                        },
                        "marker": {
                          "colorbar": {
                            "outlinewidth": 0,
                            "ticks": ""
                          }
                        },
                        "type": "scatter3d"
                      }
                    ],
                    "scattercarpet": [
                      {
                        "marker": {
                          "colorbar": {
                            "outlinewidth": 0,
                            "ticks": ""
                          }
                        },
                        "type": "scattercarpet"
                      }
                    ],
                    "scattergeo": [
                      {
                        "marker": {
                          "colorbar": {
                            "outlinewidth": 0,
                            "ticks": ""
                          }
                        },
                        "type": "scattergeo"
                      }
                    ],
                    "scattergl": [
                      {
                        "marker": {
                          "line": {
                            "color": "#283442"
                          }
                        },
                        "type": "scattergl"
                      }
                    ],
                    "scattermapbox": [
                      {
                        "marker": {
                          "colorbar": {
                            "outlinewidth": 0,
                            "ticks": ""
                          }
                        },
                        "type": "scattermapbox"
                      }
                    ],
                    "scatterpolar": [
                      {
                        "marker": {
                          "colorbar": {
                            "outlinewidth": 0,
                            "ticks": ""
                          }
                        },
                        "type": "scatterpolar"
                      }
                    ],
                    "scatterpolargl": [
                      {
                        "marker": {
                          "colorbar": {
                            "outlinewidth": 0,
                            "ticks": ""
                          }
                        },
                        "type": "scatterpolargl"
                      }
                    ],
                    "scatterternary": [
                      {
                        "marker": {
                          "colorbar": {
                            "outlinewidth": 0,
                            "ticks": ""
                          }
                        },
                        "type": "scatterternary"
                      }
                    ],
                    "surface": [
                      {
                        "colorbar": {
                          "outlinewidth": 0,
                          "ticks": ""
                        },
                        "colorscale": [
                          [
                            0,
                            "#0d0887"
                          ],
                          [
                            0.1111111111111111,
                            "#46039f"
                          ],
                          [
                            0.2222222222222222,
                            "#7201a8"
                          ],
                          [
                            0.3333333333333333,
                            "#9c179e"
                          ],
                          [
                            0.4444444444444444,
                            "#bd3786"
                          ],
                          [
                            0.5555555555555556,
                            "#d8576b"
                          ],
                          [
                            0.6666666666666666,
                            "#ed7953"
                          ],
                          [
                            0.7777777777777778,
                            "#fb9f3a"
                          ],
                          [
                            0.8888888888888888,
                            "#fdca26"
                          ],
                          [
                            1,
                            "#f0f921"
                          ]
                        ],
                        "type": "surface"
                      }
                    ],
                    "table": [
                      {
                        "cells": {
                          "fill": {
                            "color": "#506784"
                          },
                          "line": {
                            "color": "rgb(17,17,17)"
                          }
                        },
                        "header": {
                          "fill": {
                            "color": "#2a3f5f"
                          },
                          "line": {
                            "color": "rgb(17,17,17)"
                          }
                        },
                        "type": "table"
                      }
                    ]
                  },
                  "layout": {
                    "annotationdefaults": {
                      "arrowcolor": "#f2f5fa",
                      "arrowhead": 0,
                      "arrowwidth": 1
                    },
                    "autotypenumbers": "strict",
                    "coloraxis": {
                      "colorbar": {
                        "outlinewidth": 0,
                        "ticks": ""
                      }
                    },
                    "colorscale": {
                      "diverging": [
                        [
                          0,
                          "#8e0152"
                        ],
                        [
                          0.1,
                          "#c51b7d"
                        ],
                        [
                          0.2,
                          "#de77ae"
                        ],
                        [
                          0.3,
                          "#f1b6da"
                        ],
                        [
                          0.4,
                          "#fde0ef"
                        ],
                        [
                          0.5,
                          "#f7f7f7"
                        ],
                        [
                          0.6,
                          "#e6f5d0"
                        ],
                        [
                          0.7,
                          "#b8e186"
                        ],
                        [
                          0.8,
                          "#7fbc41"
                        ],
                        [
                          0.9,
                          "#4d9221"
                        ],
                        [
                          1,
                          "#276419"
                        ]
                      ],
                      "sequential": [
                        [
                          0,
                          "#0d0887"
                        ],
                        [
                          0.1111111111111111,
                          "#46039f"
                        ],
                        [
                          0.2222222222222222,
                          "#7201a8"
                        ],
                        [
                          0.3333333333333333,
                          "#9c179e"
                        ],
                        [
                          0.4444444444444444,
                          "#bd3786"
                        ],
                        [
                          0.5555555555555556,
                          "#d8576b"
                        ],
                        [
                          0.6666666666666666,
                          "#ed7953"
                        ],
                        [
                          0.7777777777777778,
                          "#fb9f3a"
                        ],
                        [
                          0.8888888888888888,
                          "#fdca26"
                        ],
                        [
                          1,
                          "#f0f921"
                        ]
                      ],
                      "sequentialminus": [
                        [
                          0,
                          "#0d0887"
                        ],
                        [
                          0.1111111111111111,
                          "#46039f"
                        ],
                        [
                          0.2222222222222222,
                          "#7201a8"
                        ],
                        [
                          0.3333333333333333,
                          "#9c179e"
                        ],
                        [
                          0.4444444444444444,
                          "#bd3786"
                        ],
                        [
                          0.5555555555555556,
                          "#d8576b"
                        ],
                        [
                          0.6666666666666666,
                          "#ed7953"
                        ],
                        [
                          0.7777777777777778,
                          "#fb9f3a"
                        ],
                        [
                          0.8888888888888888,
                          "#fdca26"
                        ],
                        [
                          1,
                          "#f0f921"
                        ]
                      ]
                    },
                    "colorway": [
                      "#636efa",
                      "#EF553B",
                      "#00cc96",
                      "#ab63fa",
                      "#FFA15A",
                      "#19d3f3",
                      "#FF6692",
                      "#B6E880",
                      "#FF97FF",
                      "#FECB52"
                    ],
                    "font": {
                      "color": "#f2f5fa"
                    },
                    "geo": {
                      "bgcolor": "rgb(17,17,17)",
                      "lakecolor": "rgb(17,17,17)",
                      "landcolor": "rgb(17,17,17)",
                      "showlakes": true,
                      "showland": true,
                      "subunitcolor": "#506784"
                    },
                    "hoverlabel": {
                      "align": "left"
                    },
                    "hovermode": "closest",
                    "mapbox": {
                      "style": "dark"
                    },
                    "paper_bgcolor": "rgb(17,17,17)",
                    "plot_bgcolor": "rgb(17,17,17)",
                    "polar": {
                      "angularaxis": {
                        "gridcolor": "#506784",
                        "linecolor": "#506784",
                        "ticks": ""
                      },
                      "bgcolor": "rgb(17,17,17)",
                      "radialaxis": {
                        "gridcolor": "#506784",
                        "linecolor": "#506784",
                        "ticks": ""
                      }
                    },
                    "scene": {
                      "xaxis": {
                        "backgroundcolor": "rgb(17,17,17)",
                        "gridcolor": "#506784",
                        "gridwidth": 2,
                        "linecolor": "#506784",
                        "showbackground": true,
                        "ticks": "",
                        "zerolinecolor": "#C8D4E3"
                      },
                      "yaxis": {
                        "backgroundcolor": "rgb(17,17,17)",
                        "gridcolor": "#506784",
                        "gridwidth": 2,
                        "linecolor": "#506784",
                        "showbackground": true,
                        "ticks": "",
                        "zerolinecolor": "#C8D4E3"
                      },
                      "zaxis": {
                        "backgroundcolor": "rgb(17,17,17)",
                        "gridcolor": "#506784",
                        "gridwidth": 2,
                        "linecolor": "#506784",
                        "showbackground": true,
                        "ticks": "",
                        "zerolinecolor": "#C8D4E3"
                      }
                    },
                    "shapedefaults": {
                      "line": {
                        "color": "#f2f5fa"
                      }
                    },
                    "sliderdefaults": {
                      "bgcolor": "#C8D4E3",
                      "bordercolor": "rgb(17,17,17)",
                      "borderwidth": 1,
                      "tickwidth": 0
                    },
                    "ternary": {
                      "aaxis": {
                        "gridcolor": "#506784",
                        "linecolor": "#506784",
                        "ticks": ""
                      },
                      "baxis": {
                        "gridcolor": "#506784",
                        "linecolor": "#506784",
                        "ticks": ""
                      },
                      "bgcolor": "rgb(17,17,17)",
                      "caxis": {
                        "gridcolor": "#506784",
                        "linecolor": "#506784",
                        "ticks": ""
                      }
                    },
                    "title": {
                      "x": 0.05
                    },
                    "updatemenudefaults": {
                      "bgcolor": "#506784",
                      "borderwidth": 0
                    },
                    "xaxis": {
                      "automargin": true,
                      "gridcolor": "#283442",
                      "linecolor": "#506784",
                      "ticks": "",
                      "title": {
                        "standoff": 15
                      },
                      "zerolinecolor": "#283442",
                      "zerolinewidth": 2
                    },
                    "yaxis": {
                      "automargin": true,
                      "gridcolor": "#283442",
                      "linecolor": "#506784",
                      "ticks": "",
                      "title": {
                        "standoff": 15
                      },
                      "zerolinecolor": "#283442",
                      "zerolinewidth": 2
                    }
                  }
                },
                "title": {
                  "text": "Emojis usados con mas frecuencia 📲",
                  "x": 0.5,
                  "xanchor": "center",
                  "y": 0.96
                }
              }
            }
          },
          "metadata": {},
          "output_type": "display_data"
        }
      ],
      "source": [
        "# Plotear el pie de los emojis más usados\n",
        "fig = px.pie(emoji_df, values='Cantidad', names=emoji_df.index, hole=.3, template='plotly_dark', color_discrete_sequence=px.colors.qualitative.Pastel2)\n",
        "fig.update_traces(textposition='inside', textinfo='percent+label')\n",
        "fig.update_layout(title={'text': 'Emojis usados con mas frecuencia 📲', 'y':0.96, 'x':0.5, 'xanchor': 'center'}, font=dict(size=17))\n",
        "fig.show()"
      ]
    },
    {
      "cell_type": "code",
      "execution_count": 16,
      "metadata": {
        "colab": {
          "base_uri": "https://localhost:8080/",
          "height": 112
        },
        "id": "Xz4DQX7tVpXA",
        "outputId": "ccac1adb-cdd1-47f0-98f4-b1571a7fa404"
      },
      "outputs": [
        {
          "data": {
            "text/html": [
              "<div>\n",
              "<style scoped>\n",
              "    .dataframe tbody tr th:only-of-type {\n",
              "        vertical-align: middle;\n",
              "    }\n",
              "\n",
              "    .dataframe tbody tr th {\n",
              "        vertical-align: top;\n",
              "    }\n",
              "\n",
              "    .dataframe thead th {\n",
              "        text-align: right;\n",
              "    }\n",
              "</style>\n",
              "<table border=\"1\" class=\"dataframe\">\n",
              "  <thead>\n",
              "    <tr style=\"text-align: right;\">\n",
              "      <th></th>\n",
              "      <th>Miembro</th>\n",
              "      <th>Mensaje</th>\n",
              "      <th>% Mensaje</th>\n",
              "    </tr>\n",
              "  </thead>\n",
              "  <tbody>\n",
              "    <tr>\n",
              "      <th>1</th>\n",
              "      <td>Anthony ✌️</td>\n",
              "      <td>20290</td>\n",
              "      <td>56.130353</td>\n",
              "    </tr>\n",
              "    <tr>\n",
              "      <th>2</th>\n",
              "      <td>Nini ❤️</td>\n",
              "      <td>15858</td>\n",
              "      <td>43.869647</td>\n",
              "    </tr>\n",
              "  </tbody>\n",
              "</table>\n",
              "</div>"
            ],
            "text/plain": [
              "      Miembro  Mensaje  % Mensaje\n",
              "1  Anthony ✌️    20290  56.130353\n",
              "2     Nini ❤️    15858  43.869647"
            ]
          },
          "execution_count": 16,
          "metadata": {},
          "output_type": "execute_result"
        }
      ],
      "source": [
        "# Determinar los miembros válidos\n",
        "miembros_validos = ['Anthony ✌️', 'Nini ❤️']\n",
        "\n",
        "# Filtrar el DataFrame para incluir solo los miembros válidos\n",
        "df_filtrado = df[df['Miembro'].isin(miembros_validos)]\n",
        "\n",
        "# Calcular el número de mensajes por miembro\n",
        "df_MiembrosActivos = df_filtrado.groupby('Miembro')['Mensaje'].count().sort_values(ascending=False).to_frame()\n",
        "df_MiembrosActivos.reset_index(inplace=True)\n",
        "df_MiembrosActivos.index = np.arange(1, len(df_MiembrosActivos)+1)\n",
        "\n",
        "# Calcular el porcentaje de mensajes para cada miembro\n",
        "total_mensajes = df_MiembrosActivos['Mensaje'].sum()\n",
        "df_MiembrosActivos['% Mensaje'] = (df_MiembrosActivos['Mensaje'] / total_mensajes) * 100\n",
        "\n",
        "df_MiembrosActivos"
      ]
    },
    {
      "cell_type": "code",
      "execution_count": 17,
      "metadata": {
        "colab": {
          "base_uri": "https://localhost:8080/",
          "height": 407
        },
        "id": "y6fFq6vc_rig",
        "outputId": "beb66d5f-b321-46a8-e706-5b51e962bea5"
      },
      "outputs": [
        {
          "data": {
            "image/png": "[encoded data removed]",
            "text/plain": [
              "<Figure size 600x400 with 1 Axes>"
            ]
          },
          "metadata": {},
          "output_type": "display_data"
        }
      ],
      "source": [
        "\n",
        "# Obtener los datos del DataFrame\n",
        "miembros = df_MiembrosActivos['Miembro'].tolist()\n",
        "porcentajes = df_MiembrosActivos['% Mensaje'].tolist()\n",
        "\n",
        "# Definir los colores pastel\n",
        "colores = ['#FFB6C1', '#ADD8E6']  # Rojo pastel y celeste pastel\n",
        "\n",
        "# Crear una figura y un eje\n",
        "fig, ax = plt.subplots(figsize=(6, 4))\n",
        "\n",
        "# Crear el gráfico de anillos\n",
        "wedges, labels, autopct_texts = ax.pie(porcentajes, colors=colores, autopct='%1.1f%%', startangle=90, textprops={'color': 'white'})\n",
        "\n",
        "# Crear un círculo negro en el centro para formar el anillo\n",
        "centro_circulo = plt.Circle((0, 0), 0.70, fc='black')\n",
        "ax.add_artist(centro_circulo)\n",
        "\n",
        "# Agregar la leyenda centrada a la derecha del gráfico\n",
        "ax.legend(wedges, miembros, loc='center right', bbox_to_anchor=(1.3, 0.5), facecolor='black', edgecolor='white', labelcolor='white')\n",
        "\n",
        "# Personalizar el gráfico\n",
        "ax.set_title('Porcentaje de Mensajes por Miembro', fontsize=14, color='white')\n",
        "ax.axis('equal')\n",
        "\n",
        "# Configurar el fondo negro\n",
        "fig.set_facecolor('black')\n",
        "ax.set_facecolor('black')\n",
        "\n",
        "# Ajustar el espaciado y mostrar el gráfico\n",
        "plt.tight_layout()\n",
        "plt.show()"
      ]
    },
    {
      "cell_type": "code",
      "execution_count": 18,
      "metadata": {
        "colab": {
          "base_uri": "https://localhost:8080/",
          "height": 206
        },
        "id": "JIbn2QyeV1Qo",
        "outputId": "65aaf09b-eb8d-458a-eeec-b239d17cff52"
      },
      "outputs": [
        {
          "data": {
            "text/html": [
              "<div>\n",
              "<style scoped>\n",
              "    .dataframe tbody tr th:only-of-type {\n",
              "        vertical-align: middle;\n",
              "    }\n",
              "\n",
              "    .dataframe tbody tr th {\n",
              "        vertical-align: top;\n",
              "    }\n",
              "\n",
              "    .dataframe thead th {\n",
              "        text-align: right;\n",
              "    }\n",
              "</style>\n",
              "<table border=\"1\" class=\"dataframe\">\n",
              "  <thead>\n",
              "    <tr style=\"text-align: right;\">\n",
              "      <th></th>\n",
              "      <th>Fecha</th>\n",
              "      <th>Hora</th>\n",
              "      <th>Miembro</th>\n",
              "      <th>Mensaje</th>\n",
              "      <th>Emojis</th>\n",
              "      <th>URLs</th>\n",
              "      <th>Letras</th>\n",
              "      <th>Palabras</th>\n",
              "    </tr>\n",
              "  </thead>\n",
              "  <tbody>\n",
              "    <tr>\n",
              "      <th>36277</th>\n",
              "      <td>2024-05-16</td>\n",
              "      <td>6:59:19 PM</td>\n",
              "      <td>Anthony ✌️</td>\n",
              "      <td>Te amoooo mi chiquita</td>\n",
              "      <td>[]</td>\n",
              "      <td>0</td>\n",
              "      <td>21</td>\n",
              "      <td>4</td>\n",
              "    </tr>\n",
              "    <tr>\n",
              "      <th>36278</th>\n",
              "      <td>2024-05-16</td>\n",
              "      <td>6:59:25 PM</td>\n",
              "      <td>Anthony ✌️</td>\n",
              "      <td>Lo hiciste muy bien hoy día</td>\n",
              "      <td>[]</td>\n",
              "      <td>0</td>\n",
              "      <td>27</td>\n",
              "      <td>6</td>\n",
              "    </tr>\n",
              "    <tr>\n",
              "      <th>36279</th>\n",
              "      <td>2024-05-16</td>\n",
              "      <td>6:59:29 PM</td>\n",
              "      <td>Anthony ✌️</td>\n",
              "      <td>Lo de la u</td>\n",
              "      <td>[]</td>\n",
              "      <td>0</td>\n",
              "      <td>10</td>\n",
              "      <td>4</td>\n",
              "    </tr>\n",
              "    <tr>\n",
              "      <th>36280</th>\n",
              "      <td>2024-05-16</td>\n",
              "      <td>6:59:48 PM</td>\n",
              "      <td>Anthony ✌️</td>\n",
              "      <td>Y pues todo saldrá muy bien</td>\n",
              "      <td>[]</td>\n",
              "      <td>0</td>\n",
              "      <td>27</td>\n",
              "      <td>6</td>\n",
              "    </tr>\n",
              "    <tr>\n",
              "      <th>36281</th>\n",
              "      <td>2024-05-16</td>\n",
              "      <td>6:59:50 PM</td>\n",
              "      <td>Anthony ✌️</td>\n",
              "      <td>Ya vas a ver</td>\n",
              "      <td>[]</td>\n",
              "      <td>0</td>\n",
              "      <td>12</td>\n",
              "      <td>4</td>\n",
              "    </tr>\n",
              "  </tbody>\n",
              "</table>\n",
              "</div>"
            ],
            "text/plain": [
              "            Fecha        Hora     Miembro                      Mensaje Emojis  \\\n",
              "36277  2024-05-16  6:59:19 PM  Anthony ✌️        Te amoooo mi chiquita     []   \n",
              "36278  2024-05-16  6:59:25 PM  Anthony ✌️  Lo hiciste muy bien hoy día     []   \n",
              "36279  2024-05-16  6:59:29 PM  Anthony ✌️                   Lo de la u     []   \n",
              "36280  2024-05-16  6:59:48 PM  Anthony ✌️  Y pues todo saldrá muy bien     []   \n",
              "36281  2024-05-16  6:59:50 PM  Anthony ✌️                 Ya vas a ver     []   \n",
              "\n",
              "       URLs  Letras  Palabras  \n",
              "36277     0      21         4  \n",
              "36278     0      27         6  \n",
              "36279     0      10         4  \n",
              "36280     0      27         6  \n",
              "36281     0      12         4  "
            ]
          },
          "execution_count": 18,
          "metadata": {},
          "output_type": "execute_result"
        }
      ],
      "source": [
        "# Separar mensajes (sin multimedia) y multimedia (stickers, fotos, videos)\n",
        "multimedia_df = df[df['Mensaje'] == '<Media omitted>']\n",
        "mensajes_df = df.drop(multimedia_df.index)\n",
        "\n",
        "# Obtener la cantidad de emojis y URLs por mensaje\n",
        "mensajes_df['Emojis'] = mensajes_df['Mensaje'].apply(ObtenerEmojis)\n",
        "mensajes_df['URLs'] = mensajes_df['Mensaje'].apply(lambda x: len(re.findall(url_patron, str(x))) if isinstance(x, str) else 0)\n",
        "\n",
        "# Contar la cantidad de palabras y letras por mensaje\n",
        "mensajes_df['Letras'] = mensajes_df['Mensaje'].apply(lambda s: len(str(s)) if isinstance(s, str) else 0)\n",
        "mensajes_df['Palabras'] = mensajes_df['Mensaje'].apply(lambda s: len(str(s).split(' ')) if isinstance(s, str) else 0)\n",
        "\n",
        "# Mostrar las últimas filas\n",
        "mensajes_df.tail()"
      ]
    },
    {
      "cell_type": "code",
      "execution_count": 19,
      "metadata": {
        "colab": {
          "base_uri": "https://localhost:8080/"
        },
        "id": "itXmoXqxx8Up",
        "outputId": "dfb0b749-3331-4b04-e4d2-bbb657e448fa"
      },
      "outputs": [
        {
          "name": "stdout",
          "output_type": "stream",
          "text": [
            "{'Nini ❤️': [15858, 4.5407995964182115, 0, 337, 11], 'Anthony ✌️': [20290, 7.244011828486939, 0, 1007, 22]}\n"
          ]
        }
      ],
      "source": [
        "# Obtener a todos los miembros\n",
        "miembros = mensajes_df['Miembro'].unique()\n",
        "\n",
        "# Crear diccionario donde se almacenará todos los datos\n",
        "diccionario = {}\n",
        "\n",
        "# Miembros válidos\n",
        "miembros_validos = ['Nini ❤️', 'Anthony ✌️']\n",
        "\n",
        "for miembro in miembros:\n",
        "    if miembro in miembros_validos:\n",
        "        # Filtrar mensajes de un miembro en específico\n",
        "        miembro_df = mensajes_df[mensajes_df['Miembro'] == miembro]\n",
        "\n",
        "        # Agregar a la lista el número total de mensajes enviados\n",
        "        total_mensajes = miembro_df.shape[0]\n",
        "\n",
        "        # Agregar a la lista el número de palabras por total de mensajes (palabras por mensaje)\n",
        "        palabras_totales = miembro_df['Palabras'].sum()\n",
        "        palabras_por_mensaje = palabras_totales / total_mensajes if total_mensajes > 0 else 0\n",
        "\n",
        "        # Agregar a la lista el número de mensajes multimedia enviados\n",
        "        multimedia = multimedia_df[multimedia_df['Miembro'] == miembro].shape[0]\n",
        "\n",
        "        # Agregar a la lista el número total de emojis enviados\n",
        "        emojis = sum(miembro_df['Emojis'].str.len())\n",
        "\n",
        "        # Agregar a la lista el número total de links enviados\n",
        "        links = sum(miembro_df['URLs'])\n",
        "\n",
        "        # Asignar los valores como lista a la llave del diccionario\n",
        "        diccionario[miembro] = [total_mensajes, palabras_por_mensaje, multimedia, emojis, links]\n",
        "\n",
        "print(diccionario)"
      ]
    },
    {
      "cell_type": "code",
      "execution_count": 20,
      "metadata": {
        "colab": {
          "base_uri": "https://localhost:8080/"
        },
        "id": "Xby_M19z0DRm",
        "outputId": "4f069269-b391-4575-840f-0a710078dc94"
      },
      "outputs": [
        {
          "name": "stdout",
          "output_type": "stream",
          "text": [
            "            Mensajes  Palabras por mensaje  Multimedia  Emojis  Links\n",
            "Anthony ✌️     20290              7.244012           0    1007     22\n",
            "Nini ❤️        15858              4.540800           0     337     11\n"
          ]
        }
      ],
      "source": [
        "# Crear el DataFrame a partir del diccionario\n",
        "miembro_stats_df = pd.DataFrame.from_dict(diccionario, orient='index', columns=['Mensajes', 'Palabras por mensaje', 'Multimedia', 'Emojis', 'Links'])\n",
        "\n",
        "# Convertir las columnas a entero donde sea necesario\n",
        "miembro_stats_df['Mensajes'] = miembro_stats_df['Mensajes'].astype(int)\n",
        "miembro_stats_df['Multimedia'] = miembro_stats_df['Multimedia'].astype(int)\n",
        "miembro_stats_df['Emojis'] = miembro_stats_df['Emojis'].astype(int)\n",
        "miembro_stats_df['Links'] = miembro_stats_df['Links'].astype(int)\n",
        "\n",
        "# Ordenar por la columna 'Mensajes'\n",
        "miembro_stats_df = miembro_stats_df.sort_values(by='Mensajes', ascending=False)\n",
        "\n",
        "# Mostrar el DataFrame final\n",
        "print(miembro_stats_df)\n",
        "\n"
      ]
    },
    {
      "cell_type": "code",
      "execution_count": 21,
      "metadata": {
        "colab": {
          "base_uri": "https://localhost:8080/",
          "height": 424
        },
        "id": "0eRBLlL8EbqS",
        "outputId": "ccdf523c-07f1-4712-a020-1e1d4ef0738e"
      },
      "outputs": [
        {
          "data": {
            "text/html": [
              "<div>\n",
              "<style scoped>\n",
              "    .dataframe tbody tr th:only-of-type {\n",
              "        vertical-align: middle;\n",
              "    }\n",
              "\n",
              "    .dataframe tbody tr th {\n",
              "        vertical-align: top;\n",
              "    }\n",
              "\n",
              "    .dataframe thead th {\n",
              "        text-align: right;\n",
              "    }\n",
              "</style>\n",
              "<table border=\"1\" class=\"dataframe\">\n",
              "  <thead>\n",
              "    <tr style=\"text-align: right;\">\n",
              "      <th></th>\n",
              "      <th>Fecha</th>\n",
              "      <th>Hora</th>\n",
              "      <th>Miembro</th>\n",
              "      <th>Mensaje</th>\n",
              "      <th>Emojis</th>\n",
              "      <th>URLs</th>\n",
              "      <th>rangoHora</th>\n",
              "    </tr>\n",
              "  </thead>\n",
              "  <tbody>\n",
              "    <tr>\n",
              "      <th>0</th>\n",
              "      <td>2023-12-06</td>\n",
              "      <td>6:20:33 PM</td>\n",
              "      <td>Nini ❤️</td>\n",
              "      <td>‎Los mensajes y las llamadas están cifrados de...</td>\n",
              "      <td>[]</td>\n",
              "      <td>0</td>\n",
              "      <td>18 - 19 h</td>\n",
              "    </tr>\n",
              "    <tr>\n",
              "      <th>1</th>\n",
              "      <td>2023-12-06</td>\n",
              "      <td>6:20:33 PM</td>\n",
              "      <td>Anthony ✌️</td>\n",
              "      <td>Entonces te llamas Nina?</td>\n",
              "      <td>[]</td>\n",
              "      <td>0</td>\n",
              "      <td>18 - 19 h</td>\n",
              "    </tr>\n",
              "    <tr>\n",
              "      <th>2</th>\n",
              "      <td>2023-12-06</td>\n",
              "      <td>6:20:38 PM</td>\n",
              "      <td>Anthony ✌️</td>\n",
              "      <td>‎&lt;Omitted Sticker&gt;</td>\n",
              "      <td>[]</td>\n",
              "      <td>0</td>\n",
              "      <td>18 - 19 h</td>\n",
              "    </tr>\n",
              "    <tr>\n",
              "      <th>3</th>\n",
              "      <td>2023-12-06</td>\n",
              "      <td>6:44:25 PM</td>\n",
              "      <td>Nini ❤️</td>\n",
              "      <td>Sii</td>\n",
              "      <td>[]</td>\n",
              "      <td>0</td>\n",
              "      <td>18 - 19 h</td>\n",
              "    </tr>\n",
              "    <tr>\n",
              "      <th>4</th>\n",
              "      <td>2023-12-06</td>\n",
              "      <td>6:44:40 PM</td>\n",
              "      <td>Nini ❤️</td>\n",
              "      <td>Mi nombre es un poco fuera de lo común</td>\n",
              "      <td>[]</td>\n",
              "      <td>0</td>\n",
              "      <td>18 - 19 h</td>\n",
              "    </tr>\n",
              "    <tr>\n",
              "      <th>...</th>\n",
              "      <td>...</td>\n",
              "      <td>...</td>\n",
              "      <td>...</td>\n",
              "      <td>...</td>\n",
              "      <td>...</td>\n",
              "      <td>...</td>\n",
              "      <td>...</td>\n",
              "    </tr>\n",
              "    <tr>\n",
              "      <th>36277</th>\n",
              "      <td>2024-05-16</td>\n",
              "      <td>6:59:19 PM</td>\n",
              "      <td>Anthony ✌️</td>\n",
              "      <td>Te amoooo mi chiquita</td>\n",
              "      <td>[]</td>\n",
              "      <td>0</td>\n",
              "      <td>18 - 19 h</td>\n",
              "    </tr>\n",
              "    <tr>\n",
              "      <th>36278</th>\n",
              "      <td>2024-05-16</td>\n",
              "      <td>6:59:25 PM</td>\n",
              "      <td>Anthony ✌️</td>\n",
              "      <td>Lo hiciste muy bien hoy día</td>\n",
              "      <td>[]</td>\n",
              "      <td>0</td>\n",
              "      <td>18 - 19 h</td>\n",
              "    </tr>\n",
              "    <tr>\n",
              "      <th>36279</th>\n",
              "      <td>2024-05-16</td>\n",
              "      <td>6:59:29 PM</td>\n",
              "      <td>Anthony ✌️</td>\n",
              "      <td>Lo de la u</td>\n",
              "      <td>[]</td>\n",
              "      <td>0</td>\n",
              "      <td>18 - 19 h</td>\n",
              "    </tr>\n",
              "    <tr>\n",
              "      <th>36280</th>\n",
              "      <td>2024-05-16</td>\n",
              "      <td>6:59:48 PM</td>\n",
              "      <td>Anthony ✌️</td>\n",
              "      <td>Y pues todo saldrá muy bien</td>\n",
              "      <td>[]</td>\n",
              "      <td>0</td>\n",
              "      <td>18 - 19 h</td>\n",
              "    </tr>\n",
              "    <tr>\n",
              "      <th>36281</th>\n",
              "      <td>2024-05-16</td>\n",
              "      <td>6:59:50 PM</td>\n",
              "      <td>Anthony ✌️</td>\n",
              "      <td>Ya vas a ver</td>\n",
              "      <td>[]</td>\n",
              "      <td>0</td>\n",
              "      <td>18 - 19 h</td>\n",
              "    </tr>\n",
              "  </tbody>\n",
              "</table>\n",
              "<p>36282 rows × 7 columns</p>\n",
              "</div>"
            ],
            "text/plain": [
              "            Fecha        Hora     Miembro  \\\n",
              "0      2023-12-06  6:20:33 PM     Nini ❤️   \n",
              "1      2023-12-06  6:20:33 PM  Anthony ✌️   \n",
              "2      2023-12-06  6:20:38 PM  Anthony ✌️   \n",
              "3      2023-12-06  6:44:25 PM     Nini ❤️   \n",
              "4      2023-12-06  6:44:40 PM     Nini ❤️   \n",
              "...           ...         ...         ...   \n",
              "36277  2024-05-16  6:59:19 PM  Anthony ✌️   \n",
              "36278  2024-05-16  6:59:25 PM  Anthony ✌️   \n",
              "36279  2024-05-16  6:59:29 PM  Anthony ✌️   \n",
              "36280  2024-05-16  6:59:48 PM  Anthony ✌️   \n",
              "36281  2024-05-16  6:59:50 PM  Anthony ✌️   \n",
              "\n",
              "                                                 Mensaje Emojis  URLs  \\\n",
              "0      ‎Los mensajes y las llamadas están cifrados de...     []     0   \n",
              "1                               Entonces te llamas Nina?     []     0   \n",
              "2                                     ‎<Omitted Sticker>     []     0   \n",
              "3                                                    Sii     []     0   \n",
              "4                 Mi nombre es un poco fuera de lo común     []     0   \n",
              "...                                                  ...    ...   ...   \n",
              "36277                              Te amoooo mi chiquita     []     0   \n",
              "36278                        Lo hiciste muy bien hoy día     []     0   \n",
              "36279                                         Lo de la u     []     0   \n",
              "36280                        Y pues todo saldrá muy bien     []     0   \n",
              "36281                                       Ya vas a ver     []     0   \n",
              "\n",
              "       rangoHora  \n",
              "0      18 - 19 h  \n",
              "1      18 - 19 h  \n",
              "2      18 - 19 h  \n",
              "3      18 - 19 h  \n",
              "4      18 - 19 h  \n",
              "...          ...  \n",
              "36277  18 - 19 h  \n",
              "36278  18 - 19 h  \n",
              "36279  18 - 19 h  \n",
              "36280  18 - 19 h  \n",
              "36281  18 - 19 h  \n",
              "\n",
              "[36282 rows x 7 columns]"
            ]
          },
          "metadata": {},
          "output_type": "display_data"
        }
      ],
      "source": [
        "\n",
        "# Crea una nueva columna 'rangoHora' en tu DataFrame 'df' utilizando la función pd.to_datetime\n",
        "df['rangoHora'] = pd.to_datetime(df['Hora'], format='%I:%M:%S %p', errors='coerce')\n",
        "\n",
        "# Define una función para crear el rango de horas\n",
        "def create_range_hour(hour):\n",
        "    if pd.notna(hour):\n",
        "        hour = pd.to_datetime(hour)  # Convertir a objeto de Python datetime si es necesario\n",
        "        start_hour = int(hour.hour)  # Convertir a entero\n",
        "        end_hour = int((hour + pd.Timedelta(hours=1)).hour)  # Convertir a entero\n",
        "        return f'{start_hour:02d} - {end_hour:02d} h'\n",
        "    else:\n",
        "        return np.nan\n",
        "\n",
        "# Aplica la función create_range_hour a la nueva columna 'rangoHora' utilizando el método apply\n",
        "df['rangoHora'] = df['rangoHora'].apply(create_range_hour)\n",
        "\n",
        "# Verifica el resultado\n",
        "display(df)"
      ]
    },
    {
      "cell_type": "code",
      "execution_count": 22,
      "metadata": {
        "colab": {
          "base_uri": "https://localhost:8080/",
          "height": 424
        },
        "id": "Ui_sdJpPEl3_",
        "outputId": "20d2b101-e043-4627-b97a-39ffce4f94a5"
      },
      "outputs": [
        {
          "data": {
            "text/html": [
              "<div>\n",
              "<style scoped>\n",
              "    .dataframe tbody tr th:only-of-type {\n",
              "        vertical-align: middle;\n",
              "    }\n",
              "\n",
              "    .dataframe tbody tr th {\n",
              "        vertical-align: top;\n",
              "    }\n",
              "\n",
              "    .dataframe thead th {\n",
              "        text-align: right;\n",
              "    }\n",
              "</style>\n",
              "<table border=\"1\" class=\"dataframe\">\n",
              "  <thead>\n",
              "    <tr style=\"text-align: right;\">\n",
              "      <th></th>\n",
              "      <th>Fecha</th>\n",
              "      <th>Hora</th>\n",
              "      <th>Miembro</th>\n",
              "      <th>Mensaje</th>\n",
              "      <th>Emojis</th>\n",
              "      <th>URLs</th>\n",
              "      <th>rangoHora</th>\n",
              "      <th>DiaSemana</th>\n",
              "    </tr>\n",
              "  </thead>\n",
              "  <tbody>\n",
              "    <tr>\n",
              "      <th>0</th>\n",
              "      <td>2023-12-06</td>\n",
              "      <td>6:20:33 PM</td>\n",
              "      <td>Nini ❤️</td>\n",
              "      <td>‎Los mensajes y las llamadas están cifrados de...</td>\n",
              "      <td>[]</td>\n",
              "      <td>0</td>\n",
              "      <td>18 - 19 h</td>\n",
              "      <td>3 Miércoles</td>\n",
              "    </tr>\n",
              "    <tr>\n",
              "      <th>1</th>\n",
              "      <td>2023-12-06</td>\n",
              "      <td>6:20:33 PM</td>\n",
              "      <td>Anthony ✌️</td>\n",
              "      <td>Entonces te llamas Nina?</td>\n",
              "      <td>[]</td>\n",
              "      <td>0</td>\n",
              "      <td>18 - 19 h</td>\n",
              "      <td>3 Miércoles</td>\n",
              "    </tr>\n",
              "    <tr>\n",
              "      <th>2</th>\n",
              "      <td>2023-12-06</td>\n",
              "      <td>6:20:38 PM</td>\n",
              "      <td>Anthony ✌️</td>\n",
              "      <td>‎&lt;Omitted Sticker&gt;</td>\n",
              "      <td>[]</td>\n",
              "      <td>0</td>\n",
              "      <td>18 - 19 h</td>\n",
              "      <td>3 Miércoles</td>\n",
              "    </tr>\n",
              "    <tr>\n",
              "      <th>3</th>\n",
              "      <td>2023-12-06</td>\n",
              "      <td>6:44:25 PM</td>\n",
              "      <td>Nini ❤️</td>\n",
              "      <td>Sii</td>\n",
              "      <td>[]</td>\n",
              "      <td>0</td>\n",
              "      <td>18 - 19 h</td>\n",
              "      <td>3 Miércoles</td>\n",
              "    </tr>\n",
              "    <tr>\n",
              "      <th>4</th>\n",
              "      <td>2023-12-06</td>\n",
              "      <td>6:44:40 PM</td>\n",
              "      <td>Nini ❤️</td>\n",
              "      <td>Mi nombre es un poco fuera de lo común</td>\n",
              "      <td>[]</td>\n",
              "      <td>0</td>\n",
              "      <td>18 - 19 h</td>\n",
              "      <td>3 Miércoles</td>\n",
              "    </tr>\n",
              "    <tr>\n",
              "      <th>...</th>\n",
              "      <td>...</td>\n",
              "      <td>...</td>\n",
              "      <td>...</td>\n",
              "      <td>...</td>\n",
              "      <td>...</td>\n",
              "      <td>...</td>\n",
              "      <td>...</td>\n",
              "      <td>...</td>\n",
              "    </tr>\n",
              "    <tr>\n",
              "      <th>36277</th>\n",
              "      <td>2024-05-16</td>\n",
              "      <td>6:59:19 PM</td>\n",
              "      <td>Anthony ✌️</td>\n",
              "      <td>Te amoooo mi chiquita</td>\n",
              "      <td>[]</td>\n",
              "      <td>0</td>\n",
              "      <td>18 - 19 h</td>\n",
              "      <td>4 Jueves</td>\n",
              "    </tr>\n",
              "    <tr>\n",
              "      <th>36278</th>\n",
              "      <td>2024-05-16</td>\n",
              "      <td>6:59:25 PM</td>\n",
              "      <td>Anthony ✌️</td>\n",
              "      <td>Lo hiciste muy bien hoy día</td>\n",
              "      <td>[]</td>\n",
              "      <td>0</td>\n",
              "      <td>18 - 19 h</td>\n",
              "      <td>4 Jueves</td>\n",
              "    </tr>\n",
              "    <tr>\n",
              "      <th>36279</th>\n",
              "      <td>2024-05-16</td>\n",
              "      <td>6:59:29 PM</td>\n",
              "      <td>Anthony ✌️</td>\n",
              "      <td>Lo de la u</td>\n",
              "      <td>[]</td>\n",
              "      <td>0</td>\n",
              "      <td>18 - 19 h</td>\n",
              "      <td>4 Jueves</td>\n",
              "    </tr>\n",
              "    <tr>\n",
              "      <th>36280</th>\n",
              "      <td>2024-05-16</td>\n",
              "      <td>6:59:48 PM</td>\n",
              "      <td>Anthony ✌️</td>\n",
              "      <td>Y pues todo saldrá muy bien</td>\n",
              "      <td>[]</td>\n",
              "      <td>0</td>\n",
              "      <td>18 - 19 h</td>\n",
              "      <td>4 Jueves</td>\n",
              "    </tr>\n",
              "    <tr>\n",
              "      <th>36281</th>\n",
              "      <td>2024-05-16</td>\n",
              "      <td>6:59:50 PM</td>\n",
              "      <td>Anthony ✌️</td>\n",
              "      <td>Ya vas a ver</td>\n",
              "      <td>[]</td>\n",
              "      <td>0</td>\n",
              "      <td>18 - 19 h</td>\n",
              "      <td>4 Jueves</td>\n",
              "    </tr>\n",
              "  </tbody>\n",
              "</table>\n",
              "<p>36282 rows × 8 columns</p>\n",
              "</div>"
            ],
            "text/plain": [
              "           Fecha        Hora     Miembro  \\\n",
              "0     2023-12-06  6:20:33 PM     Nini ❤️   \n",
              "1     2023-12-06  6:20:33 PM  Anthony ✌️   \n",
              "2     2023-12-06  6:20:38 PM  Anthony ✌️   \n",
              "3     2023-12-06  6:44:25 PM     Nini ❤️   \n",
              "4     2023-12-06  6:44:40 PM     Nini ❤️   \n",
              "...          ...         ...         ...   \n",
              "36277 2024-05-16  6:59:19 PM  Anthony ✌️   \n",
              "36278 2024-05-16  6:59:25 PM  Anthony ✌️   \n",
              "36279 2024-05-16  6:59:29 PM  Anthony ✌️   \n",
              "36280 2024-05-16  6:59:48 PM  Anthony ✌️   \n",
              "36281 2024-05-16  6:59:50 PM  Anthony ✌️   \n",
              "\n",
              "                                                 Mensaje Emojis  URLs  \\\n",
              "0      ‎Los mensajes y las llamadas están cifrados de...     []     0   \n",
              "1                               Entonces te llamas Nina?     []     0   \n",
              "2                                     ‎<Omitted Sticker>     []     0   \n",
              "3                                                    Sii     []     0   \n",
              "4                 Mi nombre es un poco fuera de lo común     []     0   \n",
              "...                                                  ...    ...   ...   \n",
              "36277                              Te amoooo mi chiquita     []     0   \n",
              "36278                        Lo hiciste muy bien hoy día     []     0   \n",
              "36279                                         Lo de la u     []     0   \n",
              "36280                        Y pues todo saldrá muy bien     []     0   \n",
              "36281                                       Ya vas a ver     []     0   \n",
              "\n",
              "       rangoHora    DiaSemana  \n",
              "0      18 - 19 h  3 Miércoles  \n",
              "1      18 - 19 h  3 Miércoles  \n",
              "2      18 - 19 h  3 Miércoles  \n",
              "3      18 - 19 h  3 Miércoles  \n",
              "4      18 - 19 h  3 Miércoles  \n",
              "...          ...          ...  \n",
              "36277  18 - 19 h     4 Jueves  \n",
              "36278  18 - 19 h     4 Jueves  \n",
              "36279  18 - 19 h     4 Jueves  \n",
              "36280  18 - 19 h     4 Jueves  \n",
              "36281  18 - 19 h     4 Jueves  \n",
              "\n",
              "[36282 rows x 8 columns]"
            ]
          },
          "metadata": {},
          "output_type": "display_data"
        }
      ],
      "source": [
        "\n",
        "\n",
        "# Asegurarse de que la columna \"Fecha\" esté en formato de fecha y hora\n",
        "df['Fecha'] = pd.to_datetime(df['Fecha'])\n",
        "\n",
        "# Crear una nueva columna \"DiaSemana\" con los días de la semana en inglés\n",
        "df['DiaSemana'] = df['Fecha'].dt.strftime('%A')\n",
        "\n",
        "# Crear un diccionario de mapeo de los días de la semana en inglés a español\n",
        "mapeo_dias_espanol = {'Monday': '1 Lunes', 'Tuesday': '2 Martes', 'Wednesday': '3 Miércoles', 'Thursday': '4 Jueves',\n",
        "                      'Friday': '5 Viernes', 'Saturday': '6 Sábado', 'Sunday': '7 Domingo'}\n",
        "\n",
        "# Aplicar el mapeo a la columna \"DiaSemana\"\n",
        "df['DiaSemana'] = df['DiaSemana'].map(mapeo_dias_espanol)\n",
        "\n",
        "# Mostrar el DataFrame resultante\n",
        "display(df)"
      ]
    },
    {
      "cell_type": "code",
      "execution_count": 23,
      "metadata": {
        "colab": {
          "base_uri": "https://localhost:8080/",
          "height": 542
        },
        "id": "4qw5lha4FRJr",
        "outputId": "ad9e1c4f-e71e-4994-aba2-395ed653ed39"
      },
      "outputs": [
        {
          "data": {
            "application/vnd.plotly.v1+json": {
              "config": {
                "plotlyServerURL": "https://plot.ly"
              },
              "data": [
                {
                  "hovertemplate": "rangoHora=%{x}<br># Mensajes por hora=%{y}<extra></extra>",
                  "legendgroup": "",
                  "line": {
                    "color": "salmon",
                    "dash": "solid"
                  },
                  "marker": {
                    "size": 10,
                    "symbol": "circle"
                  },
                  "mode": "markers+lines",
                  "name": "",
                  "orientation": "v",
                  "showlegend": false,
                  "type": "scatter",
                  "x": [
                    "00 - 01 h",
                    "01 - 02 h",
                    "02 - 03 h",
                    "03 - 04 h",
                    "04 - 05 h",
                    "05 - 06 h",
                    "06 - 07 h",
                    "07 - 08 h",
                    "08 - 09 h",
                    "09 - 10 h",
                    "10 - 11 h",
                    "11 - 12 h",
                    "12 - 13 h",
                    "13 - 14 h",
                    "14 - 15 h",
                    "15 - 16 h",
                    "16 - 17 h",
                    "17 - 18 h",
                    "18 - 19 h",
                    "19 - 20 h",
                    "20 - 21 h",
                    "21 - 22 h",
                    "22 - 23 h",
                    "23 - 00 h"
                  ],
                  "xaxis": "x",
                  "y": [
                    4947,
                    1810,
                    906,
                    529,
                    23,
                    30,
                    50,
                    575,
                    595,
                    1029,
                    1139,
                    1510,
                    1651,
                    1886,
                    1343,
                    1557,
                    1118,
                    1093,
                    1111,
                    1835,
                    1409,
                    2191,
                    3350,
                    4461
                  ],
                  "yaxis": "y"
                }
              ],
              "layout": {
                "font": {
                  "size": 17
                },
                "legend": {
                  "tracegroupgap": 0
                },
                "margin": {
                  "t": 60
                },
                "template": {
                  "data": {
                    "bar": [
                      {
                        "error_x": {
                          "color": "#f2f5fa"
                        },
                        "error_y": {
                          "color": "#f2f5fa"
                        },
                        "marker": {
                          "line": {
                            "color": "rgb(17,17,17)",
                            "width": 0.5
                          },
                          "pattern": {
                            "fillmode": "overlay",
                            "size": 10,
                            "solidity": 0.2
                          }
                        },
                        "type": "bar"
                      }
                    ],
                    "barpolar": [
                      {
                        "marker": {
                          "line": {
                            "color": "rgb(17,17,17)",
                            "width": 0.5
                          },
                          "pattern": {
                            "fillmode": "overlay",
                            "size": 10,
                            "solidity": 0.2
                          }
                        },
                        "type": "barpolar"
                      }
                    ],
                    "carpet": [
                      {
                        "aaxis": {
                          "endlinecolor": "#A2B1C6",
                          "gridcolor": "#506784",
                          "linecolor": "#506784",
                          "minorgridcolor": "#506784",
                          "startlinecolor": "#A2B1C6"
                        },
                        "baxis": {
                          "endlinecolor": "#A2B1C6",
                          "gridcolor": "#506784",
                          "linecolor": "#506784",
                          "minorgridcolor": "#506784",
                          "startlinecolor": "#A2B1C6"
                        },
                        "type": "carpet"
                      }
                    ],
                    "choropleth": [
                      {
                        "colorbar": {
                          "outlinewidth": 0,
                          "ticks": ""
                        },
                        "type": "choropleth"
                      }
                    ],
                    "contour": [
                      {
                        "colorbar": {
                          "outlinewidth": 0,
                          "ticks": ""
                        },
                        "colorscale": [
                          [
                            0,
                            "#0d0887"
                          ],
                          [
                            0.1111111111111111,
                            "#46039f"
                          ],
                          [
                            0.2222222222222222,
                            "#7201a8"
                          ],
                          [
                            0.3333333333333333,
                            "#9c179e"
                          ],
                          [
                            0.4444444444444444,
                            "#bd3786"
                          ],
                          [
                            0.5555555555555556,
                            "#d8576b"
                          ],
                          [
                            0.6666666666666666,
                            "#ed7953"
                          ],
                          [
                            0.7777777777777778,
                            "#fb9f3a"
                          ],
                          [
                            0.8888888888888888,
                            "#fdca26"
                          ],
                          [
                            1,
                            "#f0f921"
                          ]
                        ],
                        "type": "contour"
                      }
                    ],
                    "contourcarpet": [
                      {
                        "colorbar": {
                          "outlinewidth": 0,
                          "ticks": ""
                        },
                        "type": "contourcarpet"
                      }
                    ],
                    "heatmap": [
                      {
                        "colorbar": {
                          "outlinewidth": 0,
                          "ticks": ""
                        },
                        "colorscale": [
                          [
                            0,
                            "#0d0887"
                          ],
                          [
                            0.1111111111111111,
                            "#46039f"
                          ],
                          [
                            0.2222222222222222,
                            "#7201a8"
                          ],
                          [
                            0.3333333333333333,
                            "#9c179e"
                          ],
                          [
                            0.4444444444444444,
                            "#bd3786"
                          ],
                          [
                            0.5555555555555556,
                            "#d8576b"
                          ],
                          [
                            0.6666666666666666,
                            "#ed7953"
                          ],
                          [
                            0.7777777777777778,
                            "#fb9f3a"
                          ],
                          [
                            0.8888888888888888,
                            "#fdca26"
                          ],
                          [
                            1,
                            "#f0f921"
                          ]
                        ],
                        "type": "heatmap"
                      }
                    ],
                    "heatmapgl": [
                      {
                        "colorbar": {
                          "outlinewidth": 0,
                          "ticks": ""
                        },
                        "colorscale": [
                          [
                            0,
                            "#0d0887"
                          ],
                          [
                            0.1111111111111111,
                            "#46039f"
                          ],
                          [
                            0.2222222222222222,
                            "#7201a8"
                          ],
                          [
                            0.3333333333333333,
                            "#9c179e"
                          ],
                          [
                            0.4444444444444444,
                            "#bd3786"
                          ],
                          [
                            0.5555555555555556,
                            "#d8576b"
                          ],
                          [
                            0.6666666666666666,
                            "#ed7953"
                          ],
                          [
                            0.7777777777777778,
                            "#fb9f3a"
                          ],
                          [
                            0.8888888888888888,
                            "#fdca26"
                          ],
                          [
                            1,
                            "#f0f921"
                          ]
                        ],
                        "type": "heatmapgl"
                      }
                    ],
                    "histogram": [
                      {
                        "marker": {
                          "pattern": {
                            "fillmode": "overlay",
                            "size": 10,
                            "solidity": 0.2
                          }
                        },
                        "type": "histogram"
                      }
                    ],
                    "histogram2d": [
                      {
                        "colorbar": {
                          "outlinewidth": 0,
                          "ticks": ""
                        },
                        "colorscale": [
                          [
                            0,
                            "#0d0887"
                          ],
                          [
                            0.1111111111111111,
                            "#46039f"
                          ],
                          [
                            0.2222222222222222,
                            "#7201a8"
                          ],
                          [
                            0.3333333333333333,
                            "#9c179e"
                          ],
                          [
                            0.4444444444444444,
                            "#bd3786"
                          ],
                          [
                            0.5555555555555556,
                            "#d8576b"
                          ],
                          [
                            0.6666666666666666,
                            "#ed7953"
                          ],
                          [
                            0.7777777777777778,
                            "#fb9f3a"
                          ],
                          [
                            0.8888888888888888,
                            "#fdca26"
                          ],
                          [
                            1,
                            "#f0f921"
                          ]
                        ],
                        "type": "histogram2d"
                      }
                    ],
                    "histogram2dcontour": [
                      {
                        "colorbar": {
                          "outlinewidth": 0,
                          "ticks": ""
                        },
                        "colorscale": [
                          [
                            0,
                            "#0d0887"
                          ],
                          [
                            0.1111111111111111,
                            "#46039f"
                          ],
                          [
                            0.2222222222222222,
                            "#7201a8"
                          ],
                          [
                            0.3333333333333333,
                            "#9c179e"
                          ],
                          [
                            0.4444444444444444,
                            "#bd3786"
                          ],
                          [
                            0.5555555555555556,
                            "#d8576b"
                          ],
                          [
                            0.6666666666666666,
                            "#ed7953"
                          ],
                          [
                            0.7777777777777778,
                            "#fb9f3a"
                          ],
                          [
                            0.8888888888888888,
                            "#fdca26"
                          ],
                          [
                            1,
                            "#f0f921"
                          ]
                        ],
                        "type": "histogram2dcontour"
                      }
                    ],
                    "mesh3d": [
                      {
                        "colorbar": {
                          "outlinewidth": 0,
                          "ticks": ""
                        },
                        "type": "mesh3d"
                      }
                    ],
                    "parcoords": [
                      {
                        "line": {
                          "colorbar": {
                            "outlinewidth": 0,
                            "ticks": ""
                          }
                        },
                        "type": "parcoords"
                      }
                    ],
                    "pie": [
                      {
                        "automargin": true,
                        "type": "pie"
                      }
                    ],
                    "scatter": [
                      {
                        "marker": {
                          "line": {
                            "color": "#283442"
                          }
                        },
                        "type": "scatter"
                      }
                    ],
                    "scatter3d": [
                      {
                        "line": {
                          "colorbar": {
                            "outlinewidth": 0,
                            "ticks": ""
                          }
                        },
                        "marker": {
                          "colorbar": {
                            "outlinewidth": 0,
                            "ticks": ""
                          }
                        },
                        "type": "scatter3d"
                      }
                    ],
                    "scattercarpet": [
                      {
                        "marker": {
                          "colorbar": {
                            "outlinewidth": 0,
                            "ticks": ""
                          }
                        },
                        "type": "scattercarpet"
                      }
                    ],
                    "scattergeo": [
                      {
                        "marker": {
                          "colorbar": {
                            "outlinewidth": 0,
                            "ticks": ""
                          }
                        },
                        "type": "scattergeo"
                      }
                    ],
                    "scattergl": [
                      {
                        "marker": {
                          "line": {
                            "color": "#283442"
                          }
                        },
                        "type": "scattergl"
                      }
                    ],
                    "scattermapbox": [
                      {
                        "marker": {
                          "colorbar": {
                            "outlinewidth": 0,
                            "ticks": ""
                          }
                        },
                        "type": "scattermapbox"
                      }
                    ],
                    "scatterpolar": [
                      {
                        "marker": {
                          "colorbar": {
                            "outlinewidth": 0,
                            "ticks": ""
                          }
                        },
                        "type": "scatterpolar"
                      }
                    ],
                    "scatterpolargl": [
                      {
                        "marker": {
                          "colorbar": {
                            "outlinewidth": 0,
                            "ticks": ""
                          }
                        },
                        "type": "scatterpolargl"
                      }
                    ],
                    "scatterternary": [
                      {
                        "marker": {
                          "colorbar": {
                            "outlinewidth": 0,
                            "ticks": ""
                          }
                        },
                        "type": "scatterternary"
                      }
                    ],
                    "surface": [
                      {
                        "colorbar": {
                          "outlinewidth": 0,
                          "ticks": ""
                        },
                        "colorscale": [
                          [
                            0,
                            "#0d0887"
                          ],
                          [
                            0.1111111111111111,
                            "#46039f"
                          ],
                          [
                            0.2222222222222222,
                            "#7201a8"
                          ],
                          [
                            0.3333333333333333,
                            "#9c179e"
                          ],
                          [
                            0.4444444444444444,
                            "#bd3786"
                          ],
                          [
                            0.5555555555555556,
                            "#d8576b"
                          ],
                          [
                            0.6666666666666666,
                            "#ed7953"
                          ],
                          [
                            0.7777777777777778,
                            "#fb9f3a"
                          ],
                          [
                            0.8888888888888888,
                            "#fdca26"
                          ],
                          [
                            1,
                            "#f0f921"
                          ]
                        ],
                        "type": "surface"
                      }
                    ],
                    "table": [
                      {
                        "cells": {
                          "fill": {
                            "color": "#506784"
                          },
                          "line": {
                            "color": "rgb(17,17,17)"
                          }
                        },
                        "header": {
                          "fill": {
                            "color": "#2a3f5f"
                          },
                          "line": {
                            "color": "rgb(17,17,17)"
                          }
                        },
                        "type": "table"
                      }
                    ]
                  },
                  "layout": {
                    "annotationdefaults": {
                      "arrowcolor": "#f2f5fa",
                      "arrowhead": 0,
                      "arrowwidth": 1
                    },
                    "autotypenumbers": "strict",
                    "coloraxis": {
                      "colorbar": {
                        "outlinewidth": 0,
                        "ticks": ""
                      }
                    },
                    "colorscale": {
                      "diverging": [
                        [
                          0,
                          "#8e0152"
                        ],
                        [
                          0.1,
                          "#c51b7d"
                        ],
                        [
                          0.2,
                          "#de77ae"
                        ],
                        [
                          0.3,
                          "#f1b6da"
                        ],
                        [
                          0.4,
                          "#fde0ef"
                        ],
                        [
                          0.5,
                          "#f7f7f7"
                        ],
                        [
                          0.6,
                          "#e6f5d0"
                        ],
                        [
                          0.7,
                          "#b8e186"
                        ],
                        [
                          0.8,
                          "#7fbc41"
                        ],
                        [
                          0.9,
                          "#4d9221"
                        ],
                        [
                          1,
                          "#276419"
                        ]
                      ],
                      "sequential": [
                        [
                          0,
                          "#0d0887"
                        ],
                        [
                          0.1111111111111111,
                          "#46039f"
                        ],
                        [
                          0.2222222222222222,
                          "#7201a8"
                        ],
                        [
                          0.3333333333333333,
                          "#9c179e"
                        ],
                        [
                          0.4444444444444444,
                          "#bd3786"
                        ],
                        [
                          0.5555555555555556,
                          "#d8576b"
                        ],
                        [
                          0.6666666666666666,
                          "#ed7953"
                        ],
                        [
                          0.7777777777777778,
                          "#fb9f3a"
                        ],
                        [
                          0.8888888888888888,
                          "#fdca26"
                        ],
                        [
                          1,
                          "#f0f921"
                        ]
                      ],
                      "sequentialminus": [
                        [
                          0,
                          "#0d0887"
                        ],
                        [
                          0.1111111111111111,
                          "#46039f"
                        ],
                        [
                          0.2222222222222222,
                          "#7201a8"
                        ],
                        [
                          0.3333333333333333,
                          "#9c179e"
                        ],
                        [
                          0.4444444444444444,
                          "#bd3786"
                        ],
                        [
                          0.5555555555555556,
                          "#d8576b"
                        ],
                        [
                          0.6666666666666666,
                          "#ed7953"
                        ],
                        [
                          0.7777777777777778,
                          "#fb9f3a"
                        ],
                        [
                          0.8888888888888888,
                          "#fdca26"
                        ],
                        [
                          1,
                          "#f0f921"
                        ]
                      ]
                    },
                    "colorway": [
                      "#636efa",
                      "#EF553B",
                      "#00cc96",
                      "#ab63fa",
                      "#FFA15A",
                      "#19d3f3",
                      "#FF6692",
                      "#B6E880",
                      "#FF97FF",
                      "#FECB52"
                    ],
                    "font": {
                      "color": "#f2f5fa"
                    },
                    "geo": {
                      "bgcolor": "rgb(17,17,17)",
                      "lakecolor": "rgb(17,17,17)",
                      "landcolor": "rgb(17,17,17)",
                      "showlakes": true,
                      "showland": true,
                      "subunitcolor": "#506784"
                    },
                    "hoverlabel": {
                      "align": "left"
                    },
                    "hovermode": "closest",
                    "mapbox": {
                      "style": "dark"
                    },
                    "paper_bgcolor": "rgb(17,17,17)",
                    "plot_bgcolor": "rgb(17,17,17)",
                    "polar": {
                      "angularaxis": {
                        "gridcolor": "#506784",
                        "linecolor": "#506784",
                        "ticks": ""
                      },
                      "bgcolor": "rgb(17,17,17)",
                      "radialaxis": {
                        "gridcolor": "#506784",
                        "linecolor": "#506784",
                        "ticks": ""
                      }
                    },
                    "scene": {
                      "xaxis": {
                        "backgroundcolor": "rgb(17,17,17)",
                        "gridcolor": "#506784",
                        "gridwidth": 2,
                        "linecolor": "#506784",
                        "showbackground": true,
                        "ticks": "",
                        "zerolinecolor": "#C8D4E3"
                      },
                      "yaxis": {
                        "backgroundcolor": "rgb(17,17,17)",
                        "gridcolor": "#506784",
                        "gridwidth": 2,
                        "linecolor": "#506784",
                        "showbackground": true,
                        "ticks": "",
                        "zerolinecolor": "#C8D4E3"
                      },
                      "zaxis": {
                        "backgroundcolor": "rgb(17,17,17)",
                        "gridcolor": "#506784",
                        "gridwidth": 2,
                        "linecolor": "#506784",
                        "showbackground": true,
                        "ticks": "",
                        "zerolinecolor": "#C8D4E3"
                      }
                    },
                    "shapedefaults": {
                      "line": {
                        "color": "#f2f5fa"
                      }
                    },
                    "sliderdefaults": {
                      "bgcolor": "#C8D4E3",
                      "bordercolor": "rgb(17,17,17)",
                      "borderwidth": 1,
                      "tickwidth": 0
                    },
                    "ternary": {
                      "aaxis": {
                        "gridcolor": "#506784",
                        "linecolor": "#506784",
                        "ticks": ""
                      },
                      "baxis": {
                        "gridcolor": "#506784",
                        "linecolor": "#506784",
                        "ticks": ""
                      },
                      "bgcolor": "rgb(17,17,17)",
                      "caxis": {
                        "gridcolor": "#506784",
                        "linecolor": "#506784",
                        "ticks": ""
                      }
                    },
                    "title": {
                      "x": 0.05
                    },
                    "updatemenudefaults": {
                      "bgcolor": "#506784",
                      "borderwidth": 0
                    },
                    "xaxis": {
                      "automargin": true,
                      "gridcolor": "#283442",
                      "linecolor": "#506784",
                      "ticks": "",
                      "title": {
                        "standoff": 15
                      },
                      "zerolinecolor": "#283442",
                      "zerolinewidth": 2
                    },
                    "yaxis": {
                      "automargin": true,
                      "gridcolor": "#283442",
                      "linecolor": "#506784",
                      "ticks": "",
                      "title": {
                        "standoff": 15
                      },
                      "zerolinecolor": "#283442",
                      "zerolinewidth": 2
                    }
                  }
                },
                "title": {
                  "text": "Mensajes con ella ❤️ por hora",
                  "x": 0.5,
                  "xanchor": "center",
                  "y": 0.96
                },
                "xaxis": {
                  "anchor": "y",
                  "domain": [
                    0,
                    1
                  ],
                  "tickangle": 30,
                  "title": {
                    "text": "Rango de hora"
                  }
                },
                "yaxis": {
                  "anchor": "x",
                  "domain": [
                    0,
                    1
                  ],
                  "title": {
                    "text": "# Mensajes"
                  }
                }
              }
            }
          },
          "metadata": {},
          "output_type": "display_data"
        }
      ],
      "source": [
        "\n",
        "\n",
        "# Asumo que ya tienes tu DataFrame 'df' cargado con las columnas necesarias ('Fecha', 'Hora', 'Miembro', 'Mensaje', 'Emojis', 'URLs', 'rangoHora')\n",
        "\n",
        "# Crear una columna de 1 para realizar el conteo de mensajes\n",
        "df['# Mensajes por hora'] = 1\n",
        "\n",
        "# Sumar (contar) los mensajes que tengan la misma fecha y rango de hora\n",
        "mensajes_hora = df.groupby('rangoHora')['# Mensajes por hora'].sum().reset_index()\n",
        "\n",
        "# Plotear la cantidad de mensajes respecto del tiempo\n",
        "fig = px.line(mensajes_hora, x='rangoHora', y='# Mensajes por hora', color_discrete_sequence=['salmon'], template='plotly_dark')\n",
        "\n",
        "# Ajustar el gráfico\n",
        "fig.update_layout(\n",
        "    title={'text': 'Mensajes con ella ❤️ por hora',\n",
        "           'y': 0.96,\n",
        "           'x': 0.5,\n",
        "           'xanchor': 'center'},\n",
        "    font=dict(size=17)\n",
        ")\n",
        "fig.update_traces(mode='markers+lines', marker=dict(size=10))\n",
        "fig.update_xaxes(title_text='Rango de hora', tickangle=30)\n",
        "fig.update_yaxes(title_text='# Mensajes')\n",
        "\n",
        "# Mostrar el gráfico\n",
        "fig.show()"
      ]
    },
    {
      "cell_type": "code",
      "execution_count": 24,
      "metadata": {
        "colab": {
          "base_uri": "https://localhost:8080/",
          "height": 542
        },
        "id": "0TPJchTtFvw2",
        "outputId": "2d52db0d-2491-4dac-90f1-4ebef3db0dde"
      },
      "outputs": [
        {
          "data": {
            "application/vnd.plotly.v1+json": {
              "config": {
                "plotlyServerURL": "https://plot.ly"
              },
              "data": [
                {
                  "hovertemplate": "DiaSemana=%{x}<br># Mensajes por día=%{y}<extra></extra>",
                  "legendgroup": "",
                  "line": {
                    "color": "salmon",
                    "dash": "solid"
                  },
                  "marker": {
                    "size": 10,
                    "symbol": "circle"
                  },
                  "mode": "markers+lines",
                  "name": "",
                  "orientation": "v",
                  "showlegend": false,
                  "type": "scatter",
                  "x": [
                    "1 Lunes",
                    "2 Martes",
                    "3 Miércoles",
                    "4 Jueves",
                    "5 Viernes",
                    "6 Sábado",
                    "7 Domingo"
                  ],
                  "xaxis": "x",
                  "y": [
                    5205,
                    4784,
                    6243,
                    4851,
                    5177,
                    4571,
                    5451
                  ],
                  "yaxis": "y"
                }
              ],
              "layout": {
                "font": {
                  "size": 17
                },
                "legend": {
                  "tracegroupgap": 0
                },
                "margin": {
                  "t": 60
                },
                "template": {
                  "data": {
                    "bar": [
                      {
                        "error_x": {
                          "color": "#f2f5fa"
                        },
                        "error_y": {
                          "color": "#f2f5fa"
                        },
                        "marker": {
                          "line": {
                            "color": "rgb(17,17,17)",
                            "width": 0.5
                          },
                          "pattern": {
                            "fillmode": "overlay",
                            "size": 10,
                            "solidity": 0.2
                          }
                        },
                        "type": "bar"
                      }
                    ],
                    "barpolar": [
                      {
                        "marker": {
                          "line": {
                            "color": "rgb(17,17,17)",
                            "width": 0.5
                          },
                          "pattern": {
                            "fillmode": "overlay",
                            "size": 10,
                            "solidity": 0.2
                          }
                        },
                        "type": "barpolar"
                      }
                    ],
                    "carpet": [
                      {
                        "aaxis": {
                          "endlinecolor": "#A2B1C6",
                          "gridcolor": "#506784",
                          "linecolor": "#506784",
                          "minorgridcolor": "#506784",
                          "startlinecolor": "#A2B1C6"
                        },
                        "baxis": {
                          "endlinecolor": "#A2B1C6",
                          "gridcolor": "#506784",
                          "linecolor": "#506784",
                          "minorgridcolor": "#506784",
                          "startlinecolor": "#A2B1C6"
                        },
                        "type": "carpet"
                      }
                    ],
                    "choropleth": [
                      {
                        "colorbar": {
                          "outlinewidth": 0,
                          "ticks": ""
                        },
                        "type": "choropleth"
                      }
                    ],
                    "contour": [
                      {
                        "colorbar": {
                          "outlinewidth": 0,
                          "ticks": ""
                        },
                        "colorscale": [
                          [
                            0,
                            "#0d0887"
                          ],
                          [
                            0.1111111111111111,
                            "#46039f"
                          ],
                          [
                            0.2222222222222222,
                            "#7201a8"
                          ],
                          [
                            0.3333333333333333,
                            "#9c179e"
                          ],
                          [
                            0.4444444444444444,
                            "#bd3786"
                          ],
                          [
                            0.5555555555555556,
                            "#d8576b"
                          ],
                          [
                            0.6666666666666666,
                            "#ed7953"
                          ],
                          [
                            0.7777777777777778,
                            "#fb9f3a"
                          ],
                          [
                            0.8888888888888888,
                            "#fdca26"
                          ],
                          [
                            1,
                            "#f0f921"
                          ]
                        ],
                        "type": "contour"
                      }
                    ],
                    "contourcarpet": [
                      {
                        "colorbar": {
                          "outlinewidth": 0,
                          "ticks": ""
                        },
                        "type": "contourcarpet"
                      }
                    ],
                    "heatmap": [
                      {
                        "colorbar": {
                          "outlinewidth": 0,
                          "ticks": ""
                        },
                        "colorscale": [
                          [
                            0,
                            "#0d0887"
                          ],
                          [
                            0.1111111111111111,
                            "#46039f"
                          ],
                          [
                            0.2222222222222222,
                            "#7201a8"
                          ],
                          [
                            0.3333333333333333,
                            "#9c179e"
                          ],
                          [
                            0.4444444444444444,
                            "#bd3786"
                          ],
                          [
                            0.5555555555555556,
                            "#d8576b"
                          ],
                          [
                            0.6666666666666666,
                            "#ed7953"
                          ],
                          [
                            0.7777777777777778,
                            "#fb9f3a"
                          ],
                          [
                            0.8888888888888888,
                            "#fdca26"
                          ],
                          [
                            1,
                            "#f0f921"
                          ]
                        ],
                        "type": "heatmap"
                      }
                    ],
                    "heatmapgl": [
                      {
                        "colorbar": {
                          "outlinewidth": 0,
                          "ticks": ""
                        },
                        "colorscale": [
                          [
                            0,
                            "#0d0887"
                          ],
                          [
                            0.1111111111111111,
                            "#46039f"
                          ],
                          [
                            0.2222222222222222,
                            "#7201a8"
                          ],
                          [
                            0.3333333333333333,
                            "#9c179e"
                          ],
                          [
                            0.4444444444444444,
                            "#bd3786"
                          ],
                          [
                            0.5555555555555556,
                            "#d8576b"
                          ],
                          [
                            0.6666666666666666,
                            "#ed7953"
                          ],
                          [
                            0.7777777777777778,
                            "#fb9f3a"
                          ],
                          [
                            0.8888888888888888,
                            "#fdca26"
                          ],
                          [
                            1,
                            "#f0f921"
                          ]
                        ],
                        "type": "heatmapgl"
                      }
                    ],
                    "histogram": [
                      {
                        "marker": {
                          "pattern": {
                            "fillmode": "overlay",
                            "size": 10,
                            "solidity": 0.2
                          }
                        },
                        "type": "histogram"
                      }
                    ],
                    "histogram2d": [
                      {
                        "colorbar": {
                          "outlinewidth": 0,
                          "ticks": ""
                        },
                        "colorscale": [
                          [
                            0,
                            "#0d0887"
                          ],
                          [
                            0.1111111111111111,
                            "#46039f"
                          ],
                          [
                            0.2222222222222222,
                            "#7201a8"
                          ],
                          [
                            0.3333333333333333,
                            "#9c179e"
                          ],
                          [
                            0.4444444444444444,
                            "#bd3786"
                          ],
                          [
                            0.5555555555555556,
                            "#d8576b"
                          ],
                          [
                            0.6666666666666666,
                            "#ed7953"
                          ],
                          [
                            0.7777777777777778,
                            "#fb9f3a"
                          ],
                          [
                            0.8888888888888888,
                            "#fdca26"
                          ],
                          [
                            1,
                            "#f0f921"
                          ]
                        ],
                        "type": "histogram2d"
                      }
                    ],
                    "histogram2dcontour": [
                      {
                        "colorbar": {
                          "outlinewidth": 0,
                          "ticks": ""
                        },
                        "colorscale": [
                          [
                            0,
                            "#0d0887"
                          ],
                          [
                            0.1111111111111111,
                            "#46039f"
                          ],
                          [
                            0.2222222222222222,
                            "#7201a8"
                          ],
                          [
                            0.3333333333333333,
                            "#9c179e"
                          ],
                          [
                            0.4444444444444444,
                            "#bd3786"
                          ],
                          [
                            0.5555555555555556,
                            "#d8576b"
                          ],
                          [
                            0.6666666666666666,
                            "#ed7953"
                          ],
                          [
                            0.7777777777777778,
                            "#fb9f3a"
                          ],
                          [
                            0.8888888888888888,
                            "#fdca26"
                          ],
                          [
                            1,
                            "#f0f921"
                          ]
                        ],
                        "type": "histogram2dcontour"
                      }
                    ],
                    "mesh3d": [
                      {
                        "colorbar": {
                          "outlinewidth": 0,
                          "ticks": ""
                        },
                        "type": "mesh3d"
                      }
                    ],
                    "parcoords": [
                      {
                        "line": {
                          "colorbar": {
                            "outlinewidth": 0,
                            "ticks": ""
                          }
                        },
                        "type": "parcoords"
                      }
                    ],
                    "pie": [
                      {
                        "automargin": true,
                        "type": "pie"
                      }
                    ],
                    "scatter": [
                      {
                        "marker": {
                          "line": {
                            "color": "#283442"
                          }
                        },
                        "type": "scatter"
                      }
                    ],
                    "scatter3d": [
                      {
                        "line": {
                          "colorbar": {
                            "outlinewidth": 0,
                            "ticks": ""
                          }
                        },
                        "marker": {
                          "colorbar": {
                            "outlinewidth": 0,
                            "ticks": ""
                          }
                        },
                        "type": "scatter3d"
                      }
                    ],
                    "scattercarpet": [
                      {
                        "marker": {
                          "colorbar": {
                            "outlinewidth": 0,
                            "ticks": ""
                          }
                        },
                        "type": "scattercarpet"
                      }
                    ],
                    "scattergeo": [
                      {
                        "marker": {
                          "colorbar": {
                            "outlinewidth": 0,
                            "ticks": ""
                          }
                        },
                        "type": "scattergeo"
                      }
                    ],
                    "scattergl": [
                      {
                        "marker": {
                          "line": {
                            "color": "#283442"
                          }
                        },
                        "type": "scattergl"
                      }
                    ],
                    "scattermapbox": [
                      {
                        "marker": {
                          "colorbar": {
                            "outlinewidth": 0,
                            "ticks": ""
                          }
                        },
                        "type": "scattermapbox"
                      }
                    ],
                    "scatterpolar": [
                      {
                        "marker": {
                          "colorbar": {
                            "outlinewidth": 0,
                            "ticks": ""
                          }
                        },
                        "type": "scatterpolar"
                      }
                    ],
                    "scatterpolargl": [
                      {
                        "marker": {
                          "colorbar": {
                            "outlinewidth": 0,
                            "ticks": ""
                          }
                        },
                        "type": "scatterpolargl"
                      }
                    ],
                    "scatterternary": [
                      {
                        "marker": {
                          "colorbar": {
                            "outlinewidth": 0,
                            "ticks": ""
                          }
                        },
                        "type": "scatterternary"
                      }
                    ],
                    "surface": [
                      {
                        "colorbar": {
                          "outlinewidth": 0,
                          "ticks": ""
                        },
                        "colorscale": [
                          [
                            0,
                            "#0d0887"
                          ],
                          [
                            0.1111111111111111,
                            "#46039f"
                          ],
                          [
                            0.2222222222222222,
                            "#7201a8"
                          ],
                          [
                            0.3333333333333333,
                            "#9c179e"
                          ],
                          [
                            0.4444444444444444,
                            "#bd3786"
                          ],
                          [
                            0.5555555555555556,
                            "#d8576b"
                          ],
                          [
                            0.6666666666666666,
                            "#ed7953"
                          ],
                          [
                            0.7777777777777778,
                            "#fb9f3a"
                          ],
                          [
                            0.8888888888888888,
                            "#fdca26"
                          ],
                          [
                            1,
                            "#f0f921"
                          ]
                        ],
                        "type": "surface"
                      }
                    ],
                    "table": [
                      {
                        "cells": {
                          "fill": {
                            "color": "#506784"
                          },
                          "line": {
                            "color": "rgb(17,17,17)"
                          }
                        },
                        "header": {
                          "fill": {
                            "color": "#2a3f5f"
                          },
                          "line": {
                            "color": "rgb(17,17,17)"
                          }
                        },
                        "type": "table"
                      }
                    ]
                  },
                  "layout": {
                    "annotationdefaults": {
                      "arrowcolor": "#f2f5fa",
                      "arrowhead": 0,
                      "arrowwidth": 1
                    },
                    "autotypenumbers": "strict",
                    "coloraxis": {
                      "colorbar": {
                        "outlinewidth": 0,
                        "ticks": ""
                      }
                    },
                    "colorscale": {
                      "diverging": [
                        [
                          0,
                          "#8e0152"
                        ],
                        [
                          0.1,
                          "#c51b7d"
                        ],
                        [
                          0.2,
                          "#de77ae"
                        ],
                        [
                          0.3,
                          "#f1b6da"
                        ],
                        [
                          0.4,
                          "#fde0ef"
                        ],
                        [
                          0.5,
                          "#f7f7f7"
                        ],
                        [
                          0.6,
                          "#e6f5d0"
                        ],
                        [
                          0.7,
                          "#b8e186"
                        ],
                        [
                          0.8,
                          "#7fbc41"
                        ],
                        [
                          0.9,
                          "#4d9221"
                        ],
                        [
                          1,
                          "#276419"
                        ]
                      ],
                      "sequential": [
                        [
                          0,
                          "#0d0887"
                        ],
                        [
                          0.1111111111111111,
                          "#46039f"
                        ],
                        [
                          0.2222222222222222,
                          "#7201a8"
                        ],
                        [
                          0.3333333333333333,
                          "#9c179e"
                        ],
                        [
                          0.4444444444444444,
                          "#bd3786"
                        ],
                        [
                          0.5555555555555556,
                          "#d8576b"
                        ],
                        [
                          0.6666666666666666,
                          "#ed7953"
                        ],
                        [
                          0.7777777777777778,
                          "#fb9f3a"
                        ],
                        [
                          0.8888888888888888,
                          "#fdca26"
                        ],
                        [
                          1,
                          "#f0f921"
                        ]
                      ],
                      "sequentialminus": [
                        [
                          0,
                          "#0d0887"
                        ],
                        [
                          0.1111111111111111,
                          "#46039f"
                        ],
                        [
                          0.2222222222222222,
                          "#7201a8"
                        ],
                        [
                          0.3333333333333333,
                          "#9c179e"
                        ],
                        [
                          0.4444444444444444,
                          "#bd3786"
                        ],
                        [
                          0.5555555555555556,
                          "#d8576b"
                        ],
                        [
                          0.6666666666666666,
                          "#ed7953"
                        ],
                        [
                          0.7777777777777778,
                          "#fb9f3a"
                        ],
                        [
                          0.8888888888888888,
                          "#fdca26"
                        ],
                        [
                          1,
                          "#f0f921"
                        ]
                      ]
                    },
                    "colorway": [
                      "#636efa",
                      "#EF553B",
                      "#00cc96",
                      "#ab63fa",
                      "#FFA15A",
                      "#19d3f3",
                      "#FF6692",
                      "#B6E880",
                      "#FF97FF",
                      "#FECB52"
                    ],
                    "font": {
                      "color": "#f2f5fa"
                    },
                    "geo": {
                      "bgcolor": "rgb(17,17,17)",
                      "lakecolor": "rgb(17,17,17)",
                      "landcolor": "rgb(17,17,17)",
                      "showlakes": true,
                      "showland": true,
                      "subunitcolor": "#506784"
                    },
                    "hoverlabel": {
                      "align": "left"
                    },
                    "hovermode": "closest",
                    "mapbox": {
                      "style": "dark"
                    },
                    "paper_bgcolor": "rgb(17,17,17)",
                    "plot_bgcolor": "rgb(17,17,17)",
                    "polar": {
                      "angularaxis": {
                        "gridcolor": "#506784",
                        "linecolor": "#506784",
                        "ticks": ""
                      },
                      "bgcolor": "rgb(17,17,17)",
                      "radialaxis": {
                        "gridcolor": "#506784",
                        "linecolor": "#506784",
                        "ticks": ""
                      }
                    },
                    "scene": {
                      "xaxis": {
                        "backgroundcolor": "rgb(17,17,17)",
                        "gridcolor": "#506784",
                        "gridwidth": 2,
                        "linecolor": "#506784",
                        "showbackground": true,
                        "ticks": "",
                        "zerolinecolor": "#C8D4E3"
                      },
                      "yaxis": {
                        "backgroundcolor": "rgb(17,17,17)",
                        "gridcolor": "#506784",
                        "gridwidth": 2,
                        "linecolor": "#506784",
                        "showbackground": true,
                        "ticks": "",
                        "zerolinecolor": "#C8D4E3"
                      },
                      "zaxis": {
                        "backgroundcolor": "rgb(17,17,17)",
                        "gridcolor": "#506784",
                        "gridwidth": 2,
                        "linecolor": "#506784",
                        "showbackground": true,
                        "ticks": "",
                        "zerolinecolor": "#C8D4E3"
                      }
                    },
                    "shapedefaults": {
                      "line": {
                        "color": "#f2f5fa"
                      }
                    },
                    "sliderdefaults": {
                      "bgcolor": "#C8D4E3",
                      "bordercolor": "rgb(17,17,17)",
                      "borderwidth": 1,
                      "tickwidth": 0
                    },
                    "ternary": {
                      "aaxis": {
                        "gridcolor": "#506784",
                        "linecolor": "#506784",
                        "ticks": ""
                      },
                      "baxis": {
                        "gridcolor": "#506784",
                        "linecolor": "#506784",
                        "ticks": ""
                      },
                      "bgcolor": "rgb(17,17,17)",
                      "caxis": {
                        "gridcolor": "#506784",
                        "linecolor": "#506784",
                        "ticks": ""
                      }
                    },
                    "title": {
                      "x": 0.05
                    },
                    "updatemenudefaults": {
                      "bgcolor": "#506784",
                      "borderwidth": 0
                    },
                    "xaxis": {
                      "automargin": true,
                      "gridcolor": "#283442",
                      "linecolor": "#506784",
                      "ticks": "",
                      "title": {
                        "standoff": 15
                      },
                      "zerolinecolor": "#283442",
                      "zerolinewidth": 2
                    },
                    "yaxis": {
                      "automargin": true,
                      "gridcolor": "#283442",
                      "linecolor": "#506784",
                      "ticks": "",
                      "title": {
                        "standoff": 15
                      },
                      "zerolinecolor": "#283442",
                      "zerolinewidth": 2
                    }
                  }
                },
                "title": {
                  "text": "Mensajes con ella ❤️ por día",
                  "x": 0.5,
                  "xanchor": "center",
                  "y": 0.96
                },
                "xaxis": {
                  "anchor": "y",
                  "domain": [
                    0,
                    1
                  ],
                  "tickangle": 30,
                  "title": {
                    "text": "Día"
                  }
                },
                "yaxis": {
                  "anchor": "x",
                  "domain": [
                    0,
                    1
                  ],
                  "title": {
                    "text": "# Mensajes"
                  }
                }
              }
            }
          },
          "metadata": {},
          "output_type": "display_data"
        }
      ],
      "source": [
        "\n",
        "\n",
        "# Asumo que ya tienes tu DataFrame 'df' cargado con las columnas necesarias ('Fecha', 'Hora', 'Miembro', 'Mensaje', 'Emojis', 'URLs', 'rangoHora', 'DiaSemana')\n",
        "\n",
        "# Crear una columna de 1 para realizar el conteo de mensajes\n",
        "df['# Mensajes por día'] = 1\n",
        "\n",
        "# Sumar (contar) los mensajes que tengan la misma fecha y día de la semana\n",
        "date_df = df.groupby('DiaSemana')['# Mensajes por día'].sum().reset_index()\n",
        "\n",
        "# Plotear la cantidad de mensajes respecto del tiempo\n",
        "fig = px.line(date_df, x='DiaSemana', y='# Mensajes por día', color_discrete_sequence=['salmon'], template='plotly_dark')\n",
        "\n",
        "# Ajustar el gráfico\n",
        "fig.update_layout(\n",
        "    title={'text': 'Mensajes con ella ❤️ por día', 'y': 0.96, 'x': 0.5, 'xanchor': 'center'},\n",
        "    font=dict(size=17)\n",
        ")\n",
        "fig.update_traces(mode='markers+lines', marker=dict(size=10))\n",
        "fig.update_xaxes(title_text='Día', tickangle=30)\n",
        "fig.update_yaxes(title_text='# Mensajes')\n",
        "\n",
        "# Mostrar el gráfico\n",
        "fig.show()"
      ]
    },
    {
      "cell_type": "code",
      "execution_count": 25,
      "metadata": {
        "colab": {
          "base_uri": "https://localhost:8080/",
          "height": 269
        },
        "id": "DsxA5EooF_iT",
        "outputId": "79a7b9f6-d9ad-4fa9-e6cc-0c7feeac22fa"
      },
      "outputs": [
        {
          "data": {
            "text/html": [
              "<div>\n",
              "<style scoped>\n",
              "    .dataframe tbody tr th:only-of-type {\n",
              "        vertical-align: middle;\n",
              "    }\n",
              "\n",
              "    .dataframe tbody tr th {\n",
              "        vertical-align: top;\n",
              "    }\n",
              "\n",
              "    .dataframe thead th {\n",
              "        text-align: right;\n",
              "    }\n",
              "</style>\n",
              "<table border=\"1\" class=\"dataframe\">\n",
              "  <thead>\n",
              "    <tr style=\"text-align: right;\">\n",
              "      <th></th>\n",
              "      <th>DiaSemana</th>\n",
              "      <th># Mensajes por día</th>\n",
              "    </tr>\n",
              "  </thead>\n",
              "  <tbody>\n",
              "    <tr>\n",
              "      <th>0</th>\n",
              "      <td>1 Lunes</td>\n",
              "      <td>5179</td>\n",
              "    </tr>\n",
              "    <tr>\n",
              "      <th>1</th>\n",
              "      <td>2 Martes</td>\n",
              "      <td>4784</td>\n",
              "    </tr>\n",
              "    <tr>\n",
              "      <th>2</th>\n",
              "      <td>3 Miércoles</td>\n",
              "      <td>6242</td>\n",
              "    </tr>\n",
              "    <tr>\n",
              "      <th>3</th>\n",
              "      <td>4 Jueves</td>\n",
              "      <td>4828</td>\n",
              "    </tr>\n",
              "    <tr>\n",
              "      <th>4</th>\n",
              "      <td>5 Viernes</td>\n",
              "      <td>5177</td>\n",
              "    </tr>\n",
              "    <tr>\n",
              "      <th>5</th>\n",
              "      <td>6 Sábado</td>\n",
              "      <td>4556</td>\n",
              "    </tr>\n",
              "    <tr>\n",
              "      <th>6</th>\n",
              "      <td>7 Domingo</td>\n",
              "      <td>5404</td>\n",
              "    </tr>\n",
              "  </tbody>\n",
              "</table>\n",
              "</div>"
            ],
            "text/plain": [
              "     DiaSemana  # Mensajes por día\n",
              "0      1 Lunes                5179\n",
              "1     2 Martes                4784\n",
              "2  3 Miércoles                6242\n",
              "3     4 Jueves                4828\n",
              "4    5 Viernes                5177\n",
              "5     6 Sábado                4556\n",
              "6    7 Domingo                5404"
            ]
          },
          "metadata": {},
          "output_type": "display_data"
        }
      ],
      "source": [
        "# Contar el número de mensajes por día de la semana\n",
        "mensajes_por_dia = df.groupby('DiaSemana')['Mensaje'].count().reset_index(name='# Mensajes por día')\n",
        "\n",
        "# Crear un DataFrame con las columnas deseadas y los valores de conteo de mensajes\n",
        "resultado = mensajes_por_dia[['DiaSemana', '# Mensajes por día']]\n",
        "\n",
        "# Mostrar el resultado\n",
        "display(resultado)"
      ]
    },
    {
      "cell_type": "code",
      "execution_count": 27,
      "metadata": {
        "colab": {
          "base_uri": "https://localhost:8080/",
          "height": 542
        },
        "id": "gAk_9FYHHJIl",
        "outputId": "064c0ff4-80d4-4a34-cbf5-0a64bb3b9dd8"
      },
      "outputs": [
        {
          "data": {
            "application/vnd.plotly.v1+json": {
              "config": {
                "plotlyServerURL": "https://plot.ly"
              },
              "data": [
                {
                  "hovertemplate": "Fecha=%{x}<br># Mensajes por día=%{y}<extra></extra>",
                  "legendgroup": "",
                  "line": {
                    "color": "salmon",
                    "dash": "solid"
                  },
                  "marker": {
                    "symbol": "circle"
                  },
                  "mode": "lines",
                  "name": "",
                  "orientation": "v",
                  "showlegend": false,
                  "type": "scatter",
                  "x": [
                    "2023-12-06T00:00:00",
                    "2023-12-07T00:00:00",
                    "2023-12-08T00:00:00",
                    "2023-12-09T00:00:00",
                    "2023-12-10T00:00:00",
                    "2023-12-11T00:00:00",
                    "2023-12-12T00:00:00",
                    "2023-12-13T00:00:00",
                    "2023-12-14T00:00:00",
                    "2023-12-15T00:00:00",
                    "2023-12-16T00:00:00",
                    "2023-12-17T00:00:00",
                    "2023-12-18T00:00:00",
                    "2023-12-19T00:00:00",
                    "2023-12-20T00:00:00",
                    "2023-12-21T00:00:00",
                    "2023-12-22T00:00:00",
                    "2023-12-23T00:00:00",
                    "2023-12-24T00:00:00",
                    "2023-12-25T00:00:00",
                    "2023-12-26T00:00:00",
                    "2023-12-27T00:00:00",
                    "2023-12-28T00:00:00",
                    "2023-12-29T00:00:00",
                    "2023-12-30T00:00:00",
                    "2023-12-31T00:00:00",
                    "2024-01-01T00:00:00",
                    "2024-01-02T00:00:00",
                    "2024-01-03T00:00:00",
                    "2024-01-04T00:00:00",
                    "2024-01-05T00:00:00",
                    "2024-01-06T00:00:00",
                    "2024-01-07T00:00:00",
                    "2024-01-08T00:00:00",
                    "2024-01-09T00:00:00",
                    "2024-01-10T00:00:00",
                    "2024-01-11T00:00:00",
                    "2024-01-12T00:00:00",
                    "2024-01-13T00:00:00",
                    "2024-01-14T00:00:00",
                    "2024-01-15T00:00:00",
                    "2024-01-16T00:00:00",
                    "2024-01-17T00:00:00",
                    "2024-01-18T00:00:00",
                    "2024-01-19T00:00:00",
                    "2024-01-20T00:00:00",
                    "2024-01-21T00:00:00",
                    "2024-01-22T00:00:00",
                    "2024-01-23T00:00:00",
                    "2024-01-24T00:00:00",
                    "2024-01-25T00:00:00",
                    "2024-01-26T00:00:00",
                    "2024-01-27T00:00:00",
                    "2024-01-28T00:00:00",
                    "2024-01-29T00:00:00",
                    "2024-01-30T00:00:00",
                    "2024-01-31T00:00:00",
                    "2024-02-01T00:00:00",
                    "2024-02-02T00:00:00",
                    "2024-02-03T00:00:00",
                    "2024-02-04T00:00:00",
                    "2024-02-05T00:00:00",
                    "2024-02-06T00:00:00",
                    "2024-02-07T00:00:00",
                    "2024-02-08T00:00:00",
                    "2024-02-09T00:00:00",
                    "2024-02-10T00:00:00",
                    "2024-02-11T00:00:00",
                    "2024-02-12T00:00:00",
                    "2024-02-13T00:00:00",
                    "2024-02-14T00:00:00",
                    "2024-02-15T00:00:00",
                    "2024-02-16T00:00:00",
                    "2024-02-17T00:00:00",
                    "2024-02-18T00:00:00",
                    "2024-02-19T00:00:00",
                    "2024-02-20T00:00:00",
                    "2024-02-21T00:00:00",
                    "2024-02-22T00:00:00",
                    "2024-02-23T00:00:00",
                    "2024-02-24T00:00:00",
                    "2024-02-25T00:00:00",
                    "2024-02-26T00:00:00",
                    "2024-02-27T00:00:00",
                    "2024-02-28T00:00:00",
                    "2024-02-29T00:00:00",
                    "2024-03-01T00:00:00",
                    "2024-03-02T00:00:00",
                    "2024-03-03T00:00:00",
                    "2024-03-04T00:00:00",
                    "2024-03-05T00:00:00",
                    "2024-03-06T00:00:00",
                    "2024-03-07T00:00:00",
                    "2024-03-08T00:00:00",
                    "2024-03-09T00:00:00",
                    "2024-03-10T00:00:00",
                    "2024-03-11T00:00:00",
                    "2024-03-12T00:00:00",
                    "2024-03-13T00:00:00",
                    "2024-03-14T00:00:00",
                    "2024-03-15T00:00:00",
                    "2024-03-16T00:00:00",
                    "2024-03-17T00:00:00",
                    "2024-03-18T00:00:00",
                    "2024-03-19T00:00:00",
                    "2024-03-20T00:00:00",
                    "2024-03-21T00:00:00",
                    "2024-03-22T00:00:00",
                    "2024-03-23T00:00:00",
                    "2024-03-24T00:00:00",
                    "2024-03-25T00:00:00",
                    "2024-03-26T00:00:00",
                    "2024-03-27T00:00:00",
                    "2024-03-28T00:00:00",
                    "2024-03-29T00:00:00",
                    "2024-03-30T00:00:00",
                    "2024-03-31T00:00:00",
                    "2024-04-01T00:00:00",
                    "2024-04-02T00:00:00",
                    "2024-04-03T00:00:00",
                    "2024-04-04T00:00:00",
                    "2024-04-05T00:00:00",
                    "2024-04-06T00:00:00",
                    "2024-04-07T00:00:00",
                    "2024-04-08T00:00:00",
                    "2024-04-09T00:00:00",
                    "2024-04-10T00:00:00",
                    "2024-04-11T00:00:00",
                    "2024-04-12T00:00:00",
                    "2024-04-13T00:00:00",
                    "2024-04-14T00:00:00",
                    "2024-04-15T00:00:00",
                    "2024-04-16T00:00:00",
                    "2024-04-17T00:00:00",
                    "2024-04-18T00:00:00",
                    "2024-04-19T00:00:00",
                    "2024-04-20T00:00:00",
                    "2024-04-21T00:00:00",
                    "2024-04-22T00:00:00",
                    "2024-04-23T00:00:00",
                    "2024-04-24T00:00:00",
                    "2024-04-25T00:00:00",
                    "2024-04-26T00:00:00",
                    "2024-04-27T00:00:00",
                    "2024-04-28T00:00:00",
                    "2024-04-29T00:00:00",
                    "2024-05-05T00:00:00",
                    "2024-05-07T00:00:00",
                    "2024-05-08T00:00:00",
                    "2024-05-09T00:00:00",
                    "2024-05-10T00:00:00",
                    "2024-05-11T00:00:00",
                    "2024-05-12T00:00:00",
                    "2024-05-13T00:00:00",
                    "2024-05-14T00:00:00",
                    "2024-05-15T00:00:00",
                    "2024-05-16T00:00:00"
                  ],
                  "xaxis": "x",
                  "y": [
                    73,
                    136,
                    211,
                    224,
                    219,
                    259,
                    219,
                    336,
                    281,
                    242,
                    55,
                    52,
                    40,
                    46,
                    181,
                    115,
                    234,
                    99,
                    164,
                    119,
                    97,
                    167,
                    71,
                    128,
                    79,
                    325,
                    127,
                    119,
                    164,
                    101,
                    127,
                    80,
                    48,
                    83,
                    97,
                    99,
                    42,
                    65,
                    240,
                    69,
                    123,
                    79,
                    160,
                    120,
                    245,
                    141,
                    234,
                    165,
                    93,
                    174,
                    88,
                    195,
                    146,
                    244,
                    191,
                    66,
                    120,
                    159,
                    208,
                    193,
                    240,
                    231,
                    220,
                    168,
                    59,
                    37,
                    65,
                    92,
                    76,
                    165,
                    110,
                    137,
                    128,
                    93,
                    137,
                    57,
                    66,
                    47,
                    82,
                    119,
                    32,
                    17,
                    72,
                    40,
                    50,
                    39,
                    60,
                    26,
                    135,
                    133,
                    208,
                    106,
                    183,
                    219,
                    189,
                    312,
                    640,
                    271,
                    322,
                    201,
                    126,
                    167,
                    384,
                    219,
                    334,
                    332,
                    339,
                    389,
                    300,
                    99,
                    321,
                    360,
                    279,
                    560,
                    432,
                    239,
                    366,
                    725,
                    273,
                    460,
                    348,
                    323,
                    647,
                    419,
                    317,
                    536,
                    282,
                    168,
                    282,
                    318,
                    989,
                    752,
                    386,
                    320,
                    217,
                    399,
                    552,
                    289,
                    149,
                    412,
                    440,
                    237,
                    580,
                    2,
                    17,
                    3,
                    5,
                    215,
                    1077,
                    896,
                    428,
                    684,
                    595,
                    403,
                    482,
                    776,
                    272
                  ],
                  "yaxis": "y"
                }
              ],
              "layout": {
                "font": {
                  "size": 17
                },
                "legend": {
                  "tracegroupgap": 0
                },
                "margin": {
                  "t": 60
                },
                "template": {
                  "data": {
                    "bar": [
                      {
                        "error_x": {
                          "color": "#f2f5fa"
                        },
                        "error_y": {
                          "color": "#f2f5fa"
                        },
                        "marker": {
                          "line": {
                            "color": "rgb(17,17,17)",
                            "width": 0.5
                          },
                          "pattern": {
                            "fillmode": "overlay",
                            "size": 10,
                            "solidity": 0.2
                          }
                        },
                        "type": "bar"
                      }
                    ],
                    "barpolar": [
                      {
                        "marker": {
                          "line": {
                            "color": "rgb(17,17,17)",
                            "width": 0.5
                          },
                          "pattern": {
                            "fillmode": "overlay",
                            "size": 10,
                            "solidity": 0.2
                          }
                        },
                        "type": "barpolar"
                      }
                    ],
                    "carpet": [
                      {
                        "aaxis": {
                          "endlinecolor": "#A2B1C6",
                          "gridcolor": "#506784",
                          "linecolor": "#506784",
                          "minorgridcolor": "#506784",
                          "startlinecolor": "#A2B1C6"
                        },
                        "baxis": {
                          "endlinecolor": "#A2B1C6",
                          "gridcolor": "#506784",
                          "linecolor": "#506784",
                          "minorgridcolor": "#506784",
                          "startlinecolor": "#A2B1C6"
                        },
                        "type": "carpet"
                      }
                    ],
                    "choropleth": [
                      {
                        "colorbar": {
                          "outlinewidth": 0,
                          "ticks": ""
                        },
                        "type": "choropleth"
                      }
                    ],
                    "contour": [
                      {
                        "colorbar": {
                          "outlinewidth": 0,
                          "ticks": ""
                        },
                        "colorscale": [
                          [
                            0,
                            "#0d0887"
                          ],
                          [
                            0.1111111111111111,
                            "#46039f"
                          ],
                          [
                            0.2222222222222222,
                            "#7201a8"
                          ],
                          [
                            0.3333333333333333,
                            "#9c179e"
                          ],
                          [
                            0.4444444444444444,
                            "#bd3786"
                          ],
                          [
                            0.5555555555555556,
                            "#d8576b"
                          ],
                          [
                            0.6666666666666666,
                            "#ed7953"
                          ],
                          [
                            0.7777777777777778,
                            "#fb9f3a"
                          ],
                          [
                            0.8888888888888888,
                            "#fdca26"
                          ],
                          [
                            1,
                            "#f0f921"
                          ]
                        ],
                        "type": "contour"
                      }
                    ],
                    "contourcarpet": [
                      {
                        "colorbar": {
                          "outlinewidth": 0,
                          "ticks": ""
                        },
                        "type": "contourcarpet"
                      }
                    ],
                    "heatmap": [
                      {
                        "colorbar": {
                          "outlinewidth": 0,
                          "ticks": ""
                        },
                        "colorscale": [
                          [
                            0,
                            "#0d0887"
                          ],
                          [
                            0.1111111111111111,
                            "#46039f"
                          ],
                          [
                            0.2222222222222222,
                            "#7201a8"
                          ],
                          [
                            0.3333333333333333,
                            "#9c179e"
                          ],
                          [
                            0.4444444444444444,
                            "#bd3786"
                          ],
                          [
                            0.5555555555555556,
                            "#d8576b"
                          ],
                          [
                            0.6666666666666666,
                            "#ed7953"
                          ],
                          [
                            0.7777777777777778,
                            "#fb9f3a"
                          ],
                          [
                            0.8888888888888888,
                            "#fdca26"
                          ],
                          [
                            1,
                            "#f0f921"
                          ]
                        ],
                        "type": "heatmap"
                      }
                    ],
                    "heatmapgl": [
                      {
                        "colorbar": {
                          "outlinewidth": 0,
                          "ticks": ""
                        },
                        "colorscale": [
                          [
                            0,
                            "#0d0887"
                          ],
                          [
                            0.1111111111111111,
                            "#46039f"
                          ],
                          [
                            0.2222222222222222,
                            "#7201a8"
                          ],
                          [
                            0.3333333333333333,
                            "#9c179e"
                          ],
                          [
                            0.4444444444444444,
                            "#bd3786"
                          ],
                          [
                            0.5555555555555556,
                            "#d8576b"
                          ],
                          [
                            0.6666666666666666,
                            "#ed7953"
                          ],
                          [
                            0.7777777777777778,
                            "#fb9f3a"
                          ],
                          [
                            0.8888888888888888,
                            "#fdca26"
                          ],
                          [
                            1,
                            "#f0f921"
                          ]
                        ],
                        "type": "heatmapgl"
                      }
                    ],
                    "histogram": [
                      {
                        "marker": {
                          "pattern": {
                            "fillmode": "overlay",
                            "size": 10,
                            "solidity": 0.2
                          }
                        },
                        "type": "histogram"
                      }
                    ],
                    "histogram2d": [
                      {
                        "colorbar": {
                          "outlinewidth": 0,
                          "ticks": ""
                        },
                        "colorscale": [
                          [
                            0,
                            "#0d0887"
                          ],
                          [
                            0.1111111111111111,
                            "#46039f"
                          ],
                          [
                            0.2222222222222222,
                            "#7201a8"
                          ],
                          [
                            0.3333333333333333,
                            "#9c179e"
                          ],
                          [
                            0.4444444444444444,
                            "#bd3786"
                          ],
                          [
                            0.5555555555555556,
                            "#d8576b"
                          ],
                          [
                            0.6666666666666666,
                            "#ed7953"
                          ],
                          [
                            0.7777777777777778,
                            "#fb9f3a"
                          ],
                          [
                            0.8888888888888888,
                            "#fdca26"
                          ],
                          [
                            1,
                            "#f0f921"
                          ]
                        ],
                        "type": "histogram2d"
                      }
                    ],
                    "histogram2dcontour": [
                      {
                        "colorbar": {
                          "outlinewidth": 0,
                          "ticks": ""
                        },
                        "colorscale": [
                          [
                            0,
                            "#0d0887"
                          ],
                          [
                            0.1111111111111111,
                            "#46039f"
                          ],
                          [
                            0.2222222222222222,
                            "#7201a8"
                          ],
                          [
                            0.3333333333333333,
                            "#9c179e"
                          ],
                          [
                            0.4444444444444444,
                            "#bd3786"
                          ],
                          [
                            0.5555555555555556,
                            "#d8576b"
                          ],
                          [
                            0.6666666666666666,
                            "#ed7953"
                          ],
                          [
                            0.7777777777777778,
                            "#fb9f3a"
                          ],
                          [
                            0.8888888888888888,
                            "#fdca26"
                          ],
                          [
                            1,
                            "#f0f921"
                          ]
                        ],
                        "type": "histogram2dcontour"
                      }
                    ],
                    "mesh3d": [
                      {
                        "colorbar": {
                          "outlinewidth": 0,
                          "ticks": ""
                        },
                        "type": "mesh3d"
                      }
                    ],
                    "parcoords": [
                      {
                        "line": {
                          "colorbar": {
                            "outlinewidth": 0,
                            "ticks": ""
                          }
                        },
                        "type": "parcoords"
                      }
                    ],
                    "pie": [
                      {
                        "automargin": true,
                        "type": "pie"
                      }
                    ],
                    "scatter": [
                      {
                        "marker": {
                          "line": {
                            "color": "#283442"
                          }
                        },
                        "type": "scatter"
                      }
                    ],
                    "scatter3d": [
                      {
                        "line": {
                          "colorbar": {
                            "outlinewidth": 0,
                            "ticks": ""
                          }
                        },
                        "marker": {
                          "colorbar": {
                            "outlinewidth": 0,
                            "ticks": ""
                          }
                        },
                        "type": "scatter3d"
                      }
                    ],
                    "scattercarpet": [
                      {
                        "marker": {
                          "colorbar": {
                            "outlinewidth": 0,
                            "ticks": ""
                          }
                        },
                        "type": "scattercarpet"
                      }
                    ],
                    "scattergeo": [
                      {
                        "marker": {
                          "colorbar": {
                            "outlinewidth": 0,
                            "ticks": ""
                          }
                        },
                        "type": "scattergeo"
                      }
                    ],
                    "scattergl": [
                      {
                        "marker": {
                          "line": {
                            "color": "#283442"
                          }
                        },
                        "type": "scattergl"
                      }
                    ],
                    "scattermapbox": [
                      {
                        "marker": {
                          "colorbar": {
                            "outlinewidth": 0,
                            "ticks": ""
                          }
                        },
                        "type": "scattermapbox"
                      }
                    ],
                    "scatterpolar": [
                      {
                        "marker": {
                          "colorbar": {
                            "outlinewidth": 0,
                            "ticks": ""
                          }
                        },
                        "type": "scatterpolar"
                      }
                    ],
                    "scatterpolargl": [
                      {
                        "marker": {
                          "colorbar": {
                            "outlinewidth": 0,
                            "ticks": ""
                          }
                        },
                        "type": "scatterpolargl"
                      }
                    ],
                    "scatterternary": [
                      {
                        "marker": {
                          "colorbar": {
                            "outlinewidth": 0,
                            "ticks": ""
                          }
                        },
                        "type": "scatterternary"
                      }
                    ],
                    "surface": [
                      {
                        "colorbar": {
                          "outlinewidth": 0,
                          "ticks": ""
                        },
                        "colorscale": [
                          [
                            0,
                            "#0d0887"
                          ],
                          [
                            0.1111111111111111,
                            "#46039f"
                          ],
                          [
                            0.2222222222222222,
                            "#7201a8"
                          ],
                          [
                            0.3333333333333333,
                            "#9c179e"
                          ],
                          [
                            0.4444444444444444,
                            "#bd3786"
                          ],
                          [
                            0.5555555555555556,
                            "#d8576b"
                          ],
                          [
                            0.6666666666666666,
                            "#ed7953"
                          ],
                          [
                            0.7777777777777778,
                            "#fb9f3a"
                          ],
                          [
                            0.8888888888888888,
                            "#fdca26"
                          ],
                          [
                            1,
                            "#f0f921"
                          ]
                        ],
                        "type": "surface"
                      }
                    ],
                    "table": [
                      {
                        "cells": {
                          "fill": {
                            "color": "#506784"
                          },
                          "line": {
                            "color": "rgb(17,17,17)"
                          }
                        },
                        "header": {
                          "fill": {
                            "color": "#2a3f5f"
                          },
                          "line": {
                            "color": "rgb(17,17,17)"
                          }
                        },
                        "type": "table"
                      }
                    ]
                  },
                  "layout": {
                    "annotationdefaults": {
                      "arrowcolor": "#f2f5fa",
                      "arrowhead": 0,
                      "arrowwidth": 1
                    },
                    "autotypenumbers": "strict",
                    "coloraxis": {
                      "colorbar": {
                        "outlinewidth": 0,
                        "ticks": ""
                      }
                    },
                    "colorscale": {
                      "diverging": [
                        [
                          0,
                          "#8e0152"
                        ],
                        [
                          0.1,
                          "#c51b7d"
                        ],
                        [
                          0.2,
                          "#de77ae"
                        ],
                        [
                          0.3,
                          "#f1b6da"
                        ],
                        [
                          0.4,
                          "#fde0ef"
                        ],
                        [
                          0.5,
                          "#f7f7f7"
                        ],
                        [
                          0.6,
                          "#e6f5d0"
                        ],
                        [
                          0.7,
                          "#b8e186"
                        ],
                        [
                          0.8,
                          "#7fbc41"
                        ],
                        [
                          0.9,
                          "#4d9221"
                        ],
                        [
                          1,
                          "#276419"
                        ]
                      ],
                      "sequential": [
                        [
                          0,
                          "#0d0887"
                        ],
                        [
                          0.1111111111111111,
                          "#46039f"
                        ],
                        [
                          0.2222222222222222,
                          "#7201a8"
                        ],
                        [
                          0.3333333333333333,
                          "#9c179e"
                        ],
                        [
                          0.4444444444444444,
                          "#bd3786"
                        ],
                        [
                          0.5555555555555556,
                          "#d8576b"
                        ],
                        [
                          0.6666666666666666,
                          "#ed7953"
                        ],
                        [
                          0.7777777777777778,
                          "#fb9f3a"
                        ],
                        [
                          0.8888888888888888,
                          "#fdca26"
                        ],
                        [
                          1,
                          "#f0f921"
                        ]
                      ],
                      "sequentialminus": [
                        [
                          0,
                          "#0d0887"
                        ],
                        [
                          0.1111111111111111,
                          "#46039f"
                        ],
                        [
                          0.2222222222222222,
                          "#7201a8"
                        ],
                        [
                          0.3333333333333333,
                          "#9c179e"
                        ],
                        [
                          0.4444444444444444,
                          "#bd3786"
                        ],
                        [
                          0.5555555555555556,
                          "#d8576b"
                        ],
                        [
                          0.6666666666666666,
                          "#ed7953"
                        ],
                        [
                          0.7777777777777778,
                          "#fb9f3a"
                        ],
                        [
                          0.8888888888888888,
                          "#fdca26"
                        ],
                        [
                          1,
                          "#f0f921"
                        ]
                      ]
                    },
                    "colorway": [
                      "#636efa",
                      "#EF553B",
                      "#00cc96",
                      "#ab63fa",
                      "#FFA15A",
                      "#19d3f3",
                      "#FF6692",
                      "#B6E880",
                      "#FF97FF",
                      "#FECB52"
                    ],
                    "font": {
                      "color": "#f2f5fa"
                    },
                    "geo": {
                      "bgcolor": "rgb(17,17,17)",
                      "lakecolor": "rgb(17,17,17)",
                      "landcolor": "rgb(17,17,17)",
                      "showlakes": true,
                      "showland": true,
                      "subunitcolor": "#506784"
                    },
                    "hoverlabel": {
                      "align": "left"
                    },
                    "hovermode": "closest",
                    "mapbox": {
                      "style": "dark"
                    },
                    "paper_bgcolor": "rgb(17,17,17)",
                    "plot_bgcolor": "rgb(17,17,17)",
                    "polar": {
                      "angularaxis": {
                        "gridcolor": "#506784",
                        "linecolor": "#506784",
                        "ticks": ""
                      },
                      "bgcolor": "rgb(17,17,17)",
                      "radialaxis": {
                        "gridcolor": "#506784",
                        "linecolor": "#506784",
                        "ticks": ""
                      }
                    },
                    "scene": {
                      "xaxis": {
                        "backgroundcolor": "rgb(17,17,17)",
                        "gridcolor": "#506784",
                        "gridwidth": 2,
                        "linecolor": "#506784",
                        "showbackground": true,
                        "ticks": "",
                        "zerolinecolor": "#C8D4E3"
                      },
                      "yaxis": {
                        "backgroundcolor": "rgb(17,17,17)",
                        "gridcolor": "#506784",
                        "gridwidth": 2,
                        "linecolor": "#506784",
                        "showbackground": true,
                        "ticks": "",
                        "zerolinecolor": "#C8D4E3"
                      },
                      "zaxis": {
                        "backgroundcolor": "rgb(17,17,17)",
                        "gridcolor": "#506784",
                        "gridwidth": 2,
                        "linecolor": "#506784",
                        "showbackground": true,
                        "ticks": "",
                        "zerolinecolor": "#C8D4E3"
                      }
                    },
                    "shapedefaults": {
                      "line": {
                        "color": "#f2f5fa"
                      }
                    },
                    "sliderdefaults": {
                      "bgcolor": "#C8D4E3",
                      "bordercolor": "rgb(17,17,17)",
                      "borderwidth": 1,
                      "tickwidth": 0
                    },
                    "ternary": {
                      "aaxis": {
                        "gridcolor": "#506784",
                        "linecolor": "#506784",
                        "ticks": ""
                      },
                      "baxis": {
                        "gridcolor": "#506784",
                        "linecolor": "#506784",
                        "ticks": ""
                      },
                      "bgcolor": "rgb(17,17,17)",
                      "caxis": {
                        "gridcolor": "#506784",
                        "linecolor": "#506784",
                        "ticks": ""
                      }
                    },
                    "title": {
                      "x": 0.05
                    },
                    "updatemenudefaults": {
                      "bgcolor": "#506784",
                      "borderwidth": 0
                    },
                    "xaxis": {
                      "automargin": true,
                      "gridcolor": "#283442",
                      "linecolor": "#506784",
                      "ticks": "",
                      "title": {
                        "standoff": 15
                      },
                      "zerolinecolor": "#283442",
                      "zerolinewidth": 2
                    },
                    "yaxis": {
                      "automargin": true,
                      "gridcolor": "#283442",
                      "linecolor": "#506784",
                      "ticks": "",
                      "title": {
                        "standoff": 15
                      },
                      "zerolinecolor": "#283442",
                      "zerolinewidth": 2
                    }
                  }
                },
                "title": {
                  "text": "Mensajes con ella ❤️",
                  "x": 0.5,
                  "xanchor": "center",
                  "y": 0.96
                },
                "xaxis": {
                  "anchor": "y",
                  "domain": [
                    0,
                    1
                  ],
                  "nticks": 35,
                  "tickangle": 45,
                  "title": {
                    "text": "Fecha"
                  }
                },
                "yaxis": {
                  "anchor": "x",
                  "domain": [
                    0,
                    1
                  ],
                  "title": {
                    "text": "# Mensajes"
                  }
                }
              }
            }
          },
          "metadata": {},
          "output_type": "display_data"
        }
      ],
      "source": [
        "\n",
        "\n",
        "\n",
        "\n",
        "# Crear una columna de 1 para realizar el conteo de mensajes\n",
        "df['# Mensajes por día'] = 1\n",
        "\n",
        "# Sumar (contar) los mensajes que tengan la misma fecha\n",
        "date_df = df.groupby('Fecha')['# Mensajes por día'].sum().reset_index()\n",
        "\n",
        "# Plotear la cantidad de mensajes respecto del tiempo\n",
        "fig = px.line(date_df, x='Fecha', y='# Mensajes por día', color_discrete_sequence=['salmon'], template='plotly_dark')\n",
        "\n",
        "# Ajustar el gráfico\n",
        "fig.update_layout(\n",
        "    title={'text': 'Mensajes con ella ❤️',\n",
        "           'y': 0.96,\n",
        "           'x': 0.5,\n",
        "           'xanchor': 'center'},\n",
        "    font=dict(size=17)\n",
        ")\n",
        "fig.update_xaxes(title_text='Fecha', tickangle=45, nticks=35)\n",
        "fig.update_yaxes(title_text='# Mensajes')\n",
        "\n",
        "# Mostrar el gráfico\n",
        "fig.show()\n"
      ]
    },
    {
      "cell_type": "code",
      "execution_count": 29,
      "metadata": {
        "colab": {
          "base_uri": "https://localhost:8080/",
          "height": 807
        },
        "id": "Nt2jSMvnJEME",
        "outputId": "3ee6700c-2887-4240-b653-ec326dbabeb9"
      },
      "outputs": [
        {
          "data": {
            "image/png": "[encoded data removed]",
            "text/plain": [
              "<Figure size 1000x1000 with 1 Axes>"
            ]
          },
          "metadata": {},
          "output_type": "display_data"
        }
      ],
      "source": [
        "\n",
        "# Filtrar solo los mensajes (excluir filas con 'Media omitted', 'Omitted Sticker', etc.)\n",
        "mensajes_df = df[~df['Mensaje'].isin(['<Media omitted>', '<Omitted Sticker>', '<Omitted Audio>'])]\n",
        "\n",
        "# Crear un string que contendrá todas las palabras\n",
        "total_palabras = ' '\n",
        "\n",
        "# Definir las stopwords (palabras a ignorar)\n",
        "stopwords = set(STOPWORDS)\n",
        "stopwords.update(['que', 'qué', 'con', 'de', 'te', 'la', 'lo', 'le', 'el', 'las', 'los', 'les', 'por', 'es',\n",
        "                  'son', 'se', 'para', 'un', 'una', 'chicos', 'su', 'si', 'chic', 'nos', 'ya', 'hay', 'esta',\n",
        "                  'pero', 'del', 'mas', 'más', 'eso', 'este', 'como', 'así', 'todo', 'https', 'Media', 'Omitted',\n",
        "                  'y','.','o', 'editó','q', 'yo', 'al', 'Sticker', 'Audio','pue','pues'])\n",
        "\n",
        "# Cargar la imagen de la máscara\n",
        "mask = np.array(Image.open('corazon jeje.jpg'))\n",
        "\n",
        "# Obtener y acumular todas las palabras de cada mensaje\n",
        "for mensaje in mensajes_df['Mensaje'].values:\n",
        "    palabras = str(mensaje).lower().split()  # Obtener las palabras de cada línea del mensaje\n",
        "    for palabra in palabras:\n",
        "        if palabra not in stopwords:\n",
        "            total_palabras = total_palabras + palabra + ' '  # Acumular todas las palabras\n",
        "\n",
        "# Crear la nube de palabras\n",
        "wordcloud = WordCloud(width=800, height=800, background_color='black', stopwords=stopwords,\n",
        "                      max_words=100, min_font_size=5, mask=mask, colormap='OrRd').generate(total_palabras)\n",
        "\n",
        "# Plotear la nube de palabras más usadas\n",
        "plt.figure(figsize=(10, 10))\n",
        "plt.imshow(wordcloud, interpolation='bilinear')\n",
        "plt.axis('off')\n",
        "plt.show()"
      ]
    }
  ],
  "metadata": {
    "colab": {
      "provenance": []
    },
    "kernelspec": {
      "display_name": "Python 3",
      "name": "python3"
    },
    "language_info": {
      "codemirror_mode": {
        "name": "ipython",
        "version": 3
      },
      "file_extension": ".py",
      "mimetype": "text/x-python",
      "name": "python",
      "nbconvert_exporter": "python",
      "pygments_lexer": "ipython3",
      "version": "3.12.2"
    }
  },
  "nbformat": 4,
  "nbformat_minor": 0
}
